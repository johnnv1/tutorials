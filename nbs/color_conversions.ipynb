{
 "cells": [
  {
   "cell_type": "markdown",
   "metadata": {},
   "source": [
    "[![Open in Colab](https://colab.research.google.com/assets/colab-badge.svg)](https://colab.sandbox.google.com/github/kornia/tutorials/blob/master/source/color_conversions.ipynb)\n",
    "\n",
    "# Color space conversion\n",
    "\n",
    "In this tutorial we are going to learn how to convert image from different image spaces using `kornia.color`."
   ]
  },
  {
   "cell_type": "markdown",
   "metadata": {},
   "source": [
    "## Explanation\n",
    "\n",
    "Images are asumed to be loaded either in RGB or Grayscale space.\n",
    "\n",
    "1.   We will use OpenCV to load images.\n",
    "2.   Convert from BGR to RGB (note that OpenCV loads images in BGR format).\n",
    "\n"
   ]
  },
  {
   "cell_type": "code",
   "execution_count": null,
   "metadata": {},
   "outputs": [],
   "source": [
    "%%capture\n",
    "!wget https://github.com/kornia/data/raw/main/simba.png"
   ]
  },
  {
   "cell_type": "code",
   "execution_count": null,
   "metadata": {},
   "outputs": [],
   "source": [
    "import cv2\n",
    "import numpy as np\n",
    "from matplotlib import pyplot as plt\n",
    "\n",
    "# load using opencv and convert to\n",
    "img_bgr: np.array = cv2.imread(\"simba.png\", cv2.IMREAD_COLOR)\n",
    "img_rgb: np.array = cv2.cvtColor(img_bgr, cv2.COLOR_BGR2RGB)\n",
    "plt.imshow(img_rgb)\n",
    "plt.axis(\"off\");"
   ]
  },
  {
   "cell_type": "markdown",
   "metadata": {},
   "source": [
    "Alternatively we can use use `kornia.color` to perform the color transformation.\n",
    "\n",
    "1.   Convert the `np.array` to `torch.Tensor`\n",
    "2.   Convert the tensor to RGB\n",
    "3.   Convert back the tensor to numpy for visualisation."
   ]
  },
  {
   "cell_type": "code",
   "execution_count": null,
   "metadata": {},
   "outputs": [],
   "source": [
    "%%capture\n",
    "!pip install kornia"
   ]
  },
  {
   "cell_type": "code",
   "execution_count": null,
   "metadata": {},
   "outputs": [],
   "source": [
    "import kornia as K\n",
    "import torch\n",
    "import torchvision"
   ]
  },
  {
   "cell_type": "code",
   "execution_count": null,
   "metadata": {},
   "outputs": [],
   "source": [
    "# convert the numpy array to torch\n",
    "x_bgr: torch.Tensor = K.image_to_tensor(img_bgr)\n",
    "\n",
    "# to BGR\n",
    "x_rgb: torch.Tensor = K.color.bgr_to_rgb(x_bgr)\n",
    "\n",
    "# convert back to numpy and visualize\n",
    "img_np: np.array = K.tensor_to_image(x_rgb)\n",
    "plt.imshow(img_np)\n",
    "plt.axis(\"off\");"
   ]
  },
  {
   "cell_type": "markdown",
   "metadata": {},
   "source": [
    "Using `kornia` we easily perform color transformation in batch mode."
   ]
  },
  {
   "cell_type": "code",
   "execution_count": null,
   "metadata": {},
   "outputs": [],
   "source": [
    "def imshow(input: torch.Tensor):\n",
    "    out: torch.Tensor = torchvision.utils.make_grid(input, nrow=2, padding=5)\n",
    "    out_np: np.array = K.tensor_to_image(out)\n",
    "    plt.imshow(out_np)\n",
    "    plt.axis(\"off\")\n",
    "\n",
    "\n",
    "# create a batch of images\n",
    "xb_bgr = torch.stack([x_bgr, K.geometry.hflip(x_bgr), K.geometry.vflip(x_bgr), K.geometry.rot180(x_bgr)])\n",
    "imshow(xb_bgr)"
   ]
  },
  {
   "cell_type": "code",
   "execution_count": null,
   "metadata": {},
   "outputs": [],
   "source": [
    "# convert to back to RGB\n",
    "xb_rgb = K.color.bgr_to_rgb(xb_bgr)\n",
    "imshow(xb_rgb)"
   ]
  },
  {
   "cell_type": "code",
   "execution_count": null,
   "metadata": {},
   "outputs": [],
   "source": [
    "# convert to grayscale\n",
    "# NOTE: image comes in torch.uint8, and kornia assumes floating point type\n",
    "xb_gray = K.color.rgb_to_grayscale(xb_rgb.float() / 255.0)\n",
    "imshow(xb_gray)"
   ]
  },
  {
   "cell_type": "code",
   "execution_count": null,
   "metadata": {},
   "outputs": [],
   "source": [
    "# convert to HSV\n",
    "xb_hsv = K.color.rgb_to_hsv(xb_rgb.float() / 255.0)\n",
    "imshow(xb_hsv)"
   ]
  }
 ],
 "metadata": {
  "kernelspec": {
   "display_name": "Python 3",
   "language": "python",
   "name": "python3"
  }
 },
 "nbformat": 4,
 "nbformat_minor": 1
}
