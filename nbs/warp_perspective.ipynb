{
 "cells": [
  {
   "cell_type": "markdown",
   "metadata": {},
   "source": [
    "[![Open in Colab](https://colab.research.google.com/assets/colab-badge.svg)](https://colab.sandbox.google.com/github/kornia/tutorials/blob/master/source/warp_perspective.ipynb)\n",
    "\n",
    "# Warp image using perspective transform\n",
    "\n",
    "In this tutorial we are going to learn how to use the functions [kornia.get_perspective_transform](https://kornia.readthedocs.io/en/latest/geometry.transform.html#kornia.geometry.transform.get_perspective_transform) and [kornia.warp_perspective](https://kornia.readthedocs.io/en/latest/geometry.transform.html#kornia.geometry.transform.warp_perspective)."
   ]
  },
  {
   "cell_type": "markdown",
   "metadata": {},
   "source": [
    "## Install libraries and get the data"
   ]
  },
  {
   "cell_type": "code",
   "execution_count": null,
   "metadata": {},
   "outputs": [],
   "source": [
    "%%capture\n",
    "!pip install kornia"
   ]
  },
  {
   "cell_type": "code",
   "execution_count": null,
   "metadata": {},
   "outputs": [],
   "source": [
    "%%capture\n",
    "!wget https://github.com/kornia/data/raw/main/bruce.png"
   ]
  },
  {
   "cell_type": "markdown",
   "metadata": {},
   "source": [
    "## Import libraries and load the data"
   ]
  },
  {
   "cell_type": "code",
   "execution_count": null,
   "metadata": {},
   "outputs": [],
   "source": [
    "import cv2\n",
    "import kornia as K\n",
    "import matplotlib.pyplot as plt\n",
    "import numpy as np\n",
    "import torch"
   ]
  },
  {
   "cell_type": "code",
   "execution_count": null,
   "metadata": {},
   "outputs": [],
   "source": [
    "img_bgr: np.ndarray = cv2.imread(\"bruce.png\")  # HxWxC / np.uint8\n",
    "\n",
    "img: torch.tensor = K.image_to_tensor(img_bgr, keepdim=False)  # 1xCxHxW / torch.uint8\n",
    "img = K.color.bgr_to_rgb(img)\n",
    "print(img.shape)"
   ]
  },
  {
   "cell_type": "markdown",
   "metadata": {},
   "source": [
    "## Define the points to warp, compute the homography and warp"
   ]
  },
  {
   "cell_type": "code",
   "execution_count": null,
   "metadata": {},
   "outputs": [],
   "source": [
    "# the source points are the region to crop corners\n",
    "points_src = torch.tensor(\n",
    "    [\n",
    "        [\n",
    "            [125.0, 150.0],\n",
    "            [562.0, 40.0],\n",
    "            [562.0, 282.0],\n",
    "            [54.0, 328.0],\n",
    "        ]\n",
    "    ]\n",
    ")\n",
    "\n",
    "# the destination points are the image vertexes\n",
    "h, w = 64, 128  # destination size\n",
    "points_dst = torch.tensor(\n",
    "    [\n",
    "        [\n",
    "            [0.0, 0.0],\n",
    "            [w - 1.0, 0.0],\n",
    "            [w - 1.0, h - 1.0],\n",
    "            [0.0, h - 1.0],\n",
    "        ]\n",
    "    ]\n",
    ")\n",
    "\n",
    "# compute perspective transform\n",
    "M: torch.tensor = K.geometry.get_perspective_transform(points_src, points_dst)\n",
    "\n",
    "# warp the original image by the found transform\n",
    "img_warp: torch.tensor = K.geometry.warp_perspective(img.float(), M, dsize=(h, w))\n",
    "print(img_warp.shape)"
   ]
  },
  {
   "cell_type": "markdown",
   "metadata": {},
   "source": [
    "## Plot the warped data"
   ]
  },
  {
   "cell_type": "code",
   "execution_count": null,
   "metadata": {},
   "outputs": [],
   "source": [
    "# convert back to numpy\n",
    "img_np = K.tensor_to_image(img.byte())\n",
    "img_warp_np: np.ndarray = K.tensor_to_image(img_warp.byte())\n",
    "\n",
    "# draw points into original image\n",
    "for i in range(4):\n",
    "    center = tuple(points_src[0, i].long().numpy())\n",
    "    img_np = cv2.circle(img_np.copy(), center, 5, (0, 255, 0), -1)\n",
    "\n",
    "# create the plot\n",
    "fig, axs = plt.subplots(1, 2, figsize=(16, 10))\n",
    "axs = axs.ravel()\n",
    "\n",
    "axs[0].axis(\"off\")\n",
    "axs[0].set_title(\"image source\")\n",
    "axs[0].imshow(img_np)\n",
    "\n",
    "axs[1].axis(\"off\")\n",
    "axs[1].set_title(\"image destination\")\n",
    "axs[1].imshow(img_warp_np)"
   ]
  }
 ],
 "metadata": {
  "kernelspec": {
   "display_name": "Python 3",
   "language": "python",
   "name": "python3"
  }
 },
 "nbformat": 4,
 "nbformat_minor": 1
}
