{
 "cells": [
  {
   "cell_type": "markdown",
   "id": "1ceeb6b5",
   "metadata": {},
   "source": [
    "<a href=\"https://colab.research.google.com/github/kornia/tutorials/blob/master/source/unsharp_mask.ipynb\" target=\"_parent\"><img src=\"https://colab.research.google.com/assets/colab-badge.svg\" alt=\"Open In Colab\"/></a>"
   ]
  },
  {
   "cell_type": "markdown",
   "id": "10ee522f",
   "metadata": {},
   "source": [
    "# Sharpen image using unsharp mask"
   ]
  },
  {
   "cell_type": "markdown",
   "id": "3cf2c3ee",
   "metadata": {},
   "source": [
    "We first install kornia"
   ]
  },
  {
   "cell_type": "code",
   "execution_count": null,
   "id": "db9c144f",
   "metadata": {},
   "outputs": [],
   "source": [
    "%%capture\n",
    "%matplotlib inline\n",
    "!pip install kornia"
   ]
  },
  {
   "cell_type": "code",
   "execution_count": null,
   "id": "7ad15348",
   "metadata": {},
   "outputs": [],
   "source": [
    "import kornia\n",
    "\n",
    "kornia.__version__"
   ]
  },
  {
   "cell_type": "code",
   "execution_count": null,
   "id": "1a8dd957",
   "metadata": {},
   "outputs": [],
   "source": [
    "import cv2\n",
    "import matplotlib.pyplot as plt\n",
    "import numpy as np\n",
    "import torch"
   ]
  },
  {
   "cell_type": "markdown",
   "id": "fa975253",
   "metadata": {},
   "source": [
    "Downloading the example image."
   ]
  },
  {
   "cell_type": "code",
   "execution_count": null,
   "id": "ad2b260b",
   "metadata": {},
   "outputs": [],
   "source": [
    "!wget -q https://github.com/kornia/data/raw/main/squirrel.jpg"
   ]
  },
  {
   "cell_type": "code",
   "execution_count": null,
   "id": "e68f86ec",
   "metadata": {},
   "outputs": [],
   "source": [
    "# Read the image with OpenCV\n",
    "img: np.ndarray = cv2.imread(\"squirrel.jpg\")\n",
    "img = cv2.cvtColor(img, cv2.COLOR_BGR2RGB)"
   ]
  },
  {
   "cell_type": "code",
   "execution_count": null,
   "id": "29b1a07f",
   "metadata": {},
   "outputs": [],
   "source": [
    "# convert image to tensor\n",
    "data: torch.tensor = kornia.utils.image_to_tensor(img, keepdim=False)\n",
    "data = data.float() / 255.0"
   ]
  },
  {
   "cell_type": "markdown",
   "id": "b934bb4b",
   "metadata": {},
   "source": [
    "We create Unsharp Mask filter object and apply it to data. The unsharp mask filter is initialized with the format `kornia.filters.UnsharpMask(kernel_size, sigma)`. You can tune these parametres and experiment!"
   ]
  },
  {
   "cell_type": "code",
   "execution_count": null,
   "id": "c8c80a7c",
   "metadata": {},
   "outputs": [],
   "source": [
    "sharpen = kornia.filters.UnsharpMask((9, 9), (2.5, 2.5))\n",
    "sharpened_tensor = sharpen(data)\n",
    "difference = (sharpened_tensor - data).abs()"
   ]
  },
  {
   "cell_type": "code",
   "execution_count": null,
   "id": "94a72aa3",
   "metadata": {},
   "outputs": [],
   "source": [
    "# Converting the sharpened tensor to image\n",
    "sharpened_image = kornia.utils.tensor_to_image(sharpened_tensor)\n",
    "difference_image = kornia.utils.tensor_to_image(difference)"
   ]
  },
  {
   "cell_type": "markdown",
   "id": "46b0cee2",
   "metadata": {},
   "source": [
    "So, let us understand how we arrived till here.\n",
    "\n",
    "1. In the unsharp mask technique, first a gaussian blur is applied to the data.\n",
    "2. Then the blur is subtracted from the orignal data.\n",
    "3. The resultant is added to the origanl data.\n",
    "4. So, what do we get? Sharpened data!"
   ]
  },
  {
   "cell_type": "code",
   "execution_count": null,
   "id": "98fc06a7",
   "metadata": {},
   "outputs": [],
   "source": [
    "# To display the input image, sharpened image and the difference image\n",
    "fig, axs = plt.subplots(1, 3, figsize=(16, 10))\n",
    "axs = axs.ravel()\n",
    "\n",
    "axs[0].axis(\"off\")\n",
    "axs[0].set_title(\"image source\")\n",
    "axs[0].imshow(img)\n",
    "\n",
    "axs[1].axis(\"off\")\n",
    "axs[1].set_title(\"sharpened\")\n",
    "axs[1].imshow(sharpened_image)\n",
    "\n",
    "axs[2].axis(\"off\")\n",
    "axs[2].set_title(\"difference\")\n",
    "axs[2].imshow(difference_image)\n",
    "plt.show()"
   ]
  }
 ],
 "metadata": {
  "kernelspec": {
   "display_name": "Python 3",
   "language": "python",
   "name": "python3"
  }
 },
 "nbformat": 4,
 "nbformat_minor": 5
}
