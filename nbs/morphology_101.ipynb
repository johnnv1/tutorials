{
 "cells": [
  {
   "cell_type": "markdown",
   "metadata": {},
   "source": [
    "[![Open in Colab](https://colab.research.google.com/assets/colab-badge.svg)](https://colab.sandbox.google.com/github/kornia/tutorials/blob/master/source/morphology_101.ipynb)\n",
    "\n",
    "\n",
    "# Introduction to Morphological Operators\n",
    "\n",
    "In this tutorial you are gonna explore **kornia.morphology**, that's Kornia's module for differentiable Morphological Operators.\n",
    "\n",
    "By the end, you will be able to use morphological operations as easy as:\n",
    "\n",
    "`new_image = morph.operation(original_image, structuring_element)`\n",
    "\n",
    "But first things first, let's prepare the environment."
   ]
  },
  {
   "cell_type": "markdown",
   "metadata": {},
   "source": [
    "## Download Kornia"
   ]
  },
  {
   "cell_type": "markdown",
   "metadata": {},
   "source": [
    "If you don't have Kornia installed, you can download it using pip."
   ]
  },
  {
   "cell_type": "code",
   "execution_count": null,
   "metadata": {},
   "outputs": [],
   "source": [
    "%%capture\n",
    "!pip install git+https://github.com/kornia/kornia"
   ]
  },
  {
   "cell_type": "markdown",
   "metadata": {},
   "source": [
    "## Prepare the image"
   ]
  },
  {
   "cell_type": "markdown",
   "metadata": {},
   "source": [
    "With `kornia.morphology`, you can apply morphological operators in 3 channel color images. Besides, all operators are differentiable. Let's download and read an image."
   ]
  },
  {
   "cell_type": "code",
   "execution_count": null,
   "metadata": {},
   "outputs": [],
   "source": [
    "%%capture\n",
    "!wget 'https://image.shutterstock.com/image-photo/portrait-surprised-cat-scottish-straight-260nw-499196506.jpg' -O img.jpg"
   ]
  },
  {
   "cell_type": "markdown",
   "metadata": {},
   "source": [
    "We can use can use OpenCV to load the image."
   ]
  },
  {
   "cell_type": "code",
   "execution_count": null,
   "metadata": {},
   "outputs": [],
   "source": [
    "import cv2\n",
    "\n",
    "img = cv2.imread(\"img.jpg\")  # Download Image\n",
    "img = cv2.cvtColor(img, cv2.COLOR_BGR2RGB)  # Define RGB"
   ]
  },
  {
   "cell_type": "markdown",
   "metadata": {},
   "source": [
    "### Structuring element"
   ]
  },
  {
   "cell_type": "markdown",
   "metadata": {},
   "source": [
    "We have the original image ready to go, now we need the second part in the operation, the structuring element (aka Kernel).\n",
    "\n",
    "The kernel must be a 2-dim tensor with odd sides, i.e. 3x3."
   ]
  },
  {
   "cell_type": "code",
   "execution_count": null,
   "metadata": {},
   "outputs": [],
   "source": [
    "import kornia as K\n",
    "import torch\n",
    "\n",
    "device = \"cpu\"  # 'cuda:0' for GPU\n",
    "kernel = torch.tensor([[0, 1, 0], [1, 1, 1], [0, 1, 0]]).to(device)\n",
    "\n",
    "# to torch.tensor\n",
    "img_t = K.image_to_tensor(img, keepdim=False)\n",
    "img_t = img_t.float() / 255.0"
   ]
  },
  {
   "cell_type": "markdown",
   "metadata": {},
   "source": [
    "### Making plots!"
   ]
  },
  {
   "cell_type": "markdown",
   "metadata": {},
   "source": [
    "In this tutorial we are gonna compare the images before and after transforming them.\n",
    "\n",
    "It make sense to create a function to plot and see the changes!"
   ]
  },
  {
   "cell_type": "code",
   "execution_count": null,
   "metadata": {},
   "outputs": [],
   "source": [
    "import matplotlib.pyplot as plt\n",
    "from matplotlib import rcParams\n",
    "\n",
    "\n",
    "def plot_morph_image(tensor):\n",
    "\n",
    "    # kornia.tensor_to_image\n",
    "    image = K.tensor_to_image(tensor.squeeze(0))  # Tensor to image\n",
    "\n",
    "    # Plot before-after\n",
    "    rcParams[\"figure.figsize\"] = 20, 20\n",
    "    fig, ax = plt.subplots(1, 2)\n",
    "    ax[0].axis(\"off\")\n",
    "    ax[0].imshow(img)\n",
    "    ax[1].axis(\"off\")\n",
    "    ax[1].imshow(image)"
   ]
  },
  {
   "cell_type": "markdown",
   "metadata": {},
   "source": [
    "## Morphology"
   ]
  },
  {
   "cell_type": "markdown",
   "metadata": {},
   "source": [
    "The main goal of kornia.morphology is that you could easily implement several morphological operator as follows:\n",
    "\n",
    "`new_image = morph.operation(original_image, structuring_element)`"
   ]
  },
  {
   "cell_type": "markdown",
   "metadata": {},
   "source": [
    "Let's check them all!"
   ]
  },
  {
   "cell_type": "markdown",
   "metadata": {},
   "source": [
    "### Dilation"
   ]
  },
  {
   "cell_type": "code",
   "execution_count": null,
   "metadata": {},
   "outputs": [],
   "source": [
    "from kornia import morphology as morph\n",
    "\n",
    "dilated_image = morph.dilation(img_t, kernel)  # Dilation\n",
    "plot_morph_image(dilated_image)  # Plot"
   ]
  },
  {
   "cell_type": "markdown",
   "metadata": {},
   "source": [
    "### Erosion"
   ]
  },
  {
   "cell_type": "code",
   "execution_count": null,
   "metadata": {},
   "outputs": [],
   "source": [
    "eroded_image = morph.erosion(img_t, kernel)  # Erosion\n",
    "plot_morph_image(eroded_image)  # Plot"
   ]
  },
  {
   "cell_type": "markdown",
   "metadata": {},
   "source": [
    "### Open"
   ]
  },
  {
   "cell_type": "code",
   "execution_count": null,
   "metadata": {},
   "outputs": [],
   "source": [
    "opened_image = morph.opening(img_t, kernel)  # Open\n",
    "plot_morph_image(opened_image)"
   ]
  },
  {
   "cell_type": "markdown",
   "metadata": {},
   "source": [
    "### Close"
   ]
  },
  {
   "cell_type": "code",
   "execution_count": null,
   "metadata": {},
   "outputs": [],
   "source": [
    "closed_image = morph.closing(img_t, kernel)  # Close\n",
    "plot_morph_image(closed_image)  # Plot"
   ]
  },
  {
   "cell_type": "markdown",
   "metadata": {},
   "source": [
    "### Morphological Gradient"
   ]
  },
  {
   "cell_type": "code",
   "execution_count": null,
   "metadata": {},
   "outputs": [],
   "source": [
    "graded_image = morph.gradient(img_t, kernel)  # Morphological gradient\n",
    "plot_morph_image(1.0 - graded_image)"
   ]
  },
  {
   "cell_type": "markdown",
   "metadata": {},
   "source": [
    "### Bottom Hat"
   ]
  },
  {
   "cell_type": "code",
   "execution_count": null,
   "metadata": {},
   "outputs": [],
   "source": [
    "bottom_image = morph.bottom_hat(img_t, kernel)  # Black Hat\n",
    "plot_morph_image(1.0 - bottom_image)"
   ]
  },
  {
   "cell_type": "markdown",
   "metadata": {},
   "source": [
    "### Top Hat"
   ]
  },
  {
   "cell_type": "code",
   "execution_count": null,
   "metadata": {},
   "outputs": [],
   "source": [
    "toph_image = morph.top_hat(img_t, kernel)  # Top Hat\n",
    "plot_morph_image(1.0 - toph_image)"
   ]
  },
  {
   "cell_type": "markdown",
   "metadata": {},
   "source": [
    "## Conclusion"
   ]
  },
  {
   "cell_type": "markdown",
   "metadata": {},
   "source": [
    "And that's it!\n",
    "\n",
    "Now you know how to use Kornia to apply differentiable morphological operations in your PyTorch pipeline.\n",
    "\n",
    "Many thanks for using Kornia, and have fun!"
   ]
  }
 ],
 "metadata": {
  "kernelspec": {
   "display_name": "Python 3",
   "language": "python",
   "name": "python3"
  }
 },
 "nbformat": 4,
 "nbformat_minor": 1
}
