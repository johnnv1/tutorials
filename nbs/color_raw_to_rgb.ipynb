{
 "cells": [
  {
   "cell_type": "markdown",
   "metadata": {},
   "source": [
    "[![Open in Colab](https://colab.research.google.com/assets/colab-badge.svg)](https://colab.sandbox.google.com/github/kornia/tutorials/blob/master/source/color_raw_to_rgb.ipynb)\n",
    "\n",
    "# Convert RGB to RAW\n",
    "\n"
   ]
  },
  {
   "cell_type": "markdown",
   "metadata": {},
   "source": [
    "## Download necessary files and libraries"
   ]
  },
  {
   "cell_type": "code",
   "execution_count": null,
   "metadata": {},
   "outputs": [],
   "source": [
    "%%capture\n",
    "!pip install kornia\n",
    "!pip install rawpy\n",
    "!wget -q --show-progress --no-check-certificate 'https://docs.google.com/uc?export=download&id=1nSM_FYJ7i9-_57ecPY5sCG2s8zt9dRhF' -O raw.dng"
   ]
  },
  {
   "cell_type": "markdown",
   "metadata": {},
   "source": [
    "## Import necessary libraries"
   ]
  },
  {
   "cell_type": "code",
   "execution_count": null,
   "metadata": {},
   "outputs": [],
   "source": [
    "import kornia\n",
    "import matplotlib.pyplot as plt\n",
    "import numpy as np\n",
    "import rawpy\n",
    "import torch"
   ]
  },
  {
   "cell_type": "markdown",
   "metadata": {},
   "source": [
    "## Prepare the raw file through rawpy"
   ]
  },
  {
   "cell_type": "code",
   "execution_count": null,
   "metadata": {},
   "outputs": [],
   "source": [
    "path = \"raw.dng\"\n",
    "raw = rawpy.imread(path)\n",
    "cfa = \"\".join([chr(raw.color_desc[i]) for i in raw.raw_pattern.flatten()])\n",
    "\n",
    "# Figure out which cfa we are using by looking at the component order from rawpy\n",
    "# if we do this directly from a camera this would of course be known ahead\n",
    "# of time\n",
    "if cfa == \"GRBG\":\n",
    "    korniacfa = kornia.color.CFA.GB\n",
    "elif cfa == \"GBRG\":\n",
    "    korniacfa = kornia.color.CFA.GR\n",
    "elif cfa == \"BGGR\":\n",
    "    korniacfa = kornia.color.CFA.RG\n",
    "elif cfa == \"RGGB\":\n",
    "    korniacfa = kornia.color.CFA.BG\n",
    "\n",
    "# This is a GB file i.e. top left pixel is Green follow by Red (and the pair\n",
    "# starting at (1,1) is Green, Blue)\n",
    "print(cfa)\n",
    "print(korniacfa)"
   ]
  },
  {
   "cell_type": "markdown",
   "metadata": {},
   "source": [
    "## Get the data into kornia by doing the conversion\n"
   ]
  },
  {
   "cell_type": "code",
   "execution_count": null,
   "metadata": {},
   "outputs": [],
   "source": [
    "# We find the data inside raw.raw_image\n",
    "rawdata = raw.raw_image\n",
    "# white level gives maximum value for a pixel\n",
    "rawtensor = torch.Tensor(rawdata.astype(np.float32) / raw.white_level).reshape(\n",
    "    1, 1, raw.raw_image.shape[0], raw.raw_image.shape[1]\n",
    ")\n",
    "rgbtensor = kornia.color.raw.raw_to_rgb(rawtensor, korniacfa)"
   ]
  },
  {
   "cell_type": "markdown",
   "metadata": {},
   "source": [
    "## Visualize\n"
   ]
  },
  {
   "cell_type": "code",
   "execution_count": null,
   "metadata": {},
   "outputs": [],
   "source": [
    "npimg = np.moveaxis(np.squeeze((rgbtensor * 255.0).numpy().astype(np.uint8)), 0, 2)\n",
    "plt.figure()\n",
    "\n",
    "# Show the image\n",
    "# Colors will look a little funky because they need to be balanced properly, but\n",
    "# the leaves are supposed to be redm berries blue and grass green\n",
    "plt.imshow(npimg)"
   ]
  },
  {
   "cell_type": "markdown",
   "metadata": {},
   "source": [
    "## Gotchas: Rotation gives a different cfa"
   ]
  },
  {
   "cell_type": "code",
   "execution_count": null,
   "metadata": {},
   "outputs": [],
   "source": [
    "# if we do a pipeline were we first rotate the image, it will end up with a\n",
    "# different cfa that isn't possible to describe since we are assuming all red\n",
    "# samples are on t.he same row while they would not be rotated\n",
    "rgbtensor = kornia.color.raw.raw_to_rgb(torch.rot90(rawtensor, 1, [2, 3]), korniacfa)\n",
    "npimg = np.moveaxis(np.squeeze((rgbtensor * 255.0).numpy().astype(np.uint8)), 0, 2)\n",
    "plt.figure()\n",
    "plt.imshow(npimg)"
   ]
  },
  {
   "cell_type": "code",
   "execution_count": null,
   "metadata": {},
   "outputs": [],
   "source": [
    "# If we crop, we can adjust for this by using a different cfa\n",
    "rgbtensor = kornia.color.raw.raw_to_rgb(rawtensor[:, :, 1:1023, 1:1023], kornia.color.raw.CFA.GR)\n",
    "npimg = np.moveaxis(np.squeeze((rgbtensor * 255.0).numpy().astype(np.uint8)), 0, 2)\n",
    "plt.figure()\n",
    "plt.imshow(npimg)"
   ]
  }
 ],
 "metadata": {
  "kernelspec": {
   "display_name": "Python 3",
   "language": "python",
   "name": "python3"
  }
 },
 "nbformat": 4,
 "nbformat_minor": 1
}
