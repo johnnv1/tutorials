{
 "cells": [
  {
   "cell_type": "markdown",
   "metadata": {},
   "source": [
    "[![Open in Colab](https://colab.research.google.com/assets/colab-badge.svg)](https://colab.sandbox.google.com/github/kornia/tutorials/blob/master/source/rotate_affine.ipynb)\n",
    "\n",
    "# Rotate image using warp affine transform\n",
    "\n",
    "In this tutorial we are going to learn how to rotate an image using the `kornia.gemetry` components."
   ]
  },
  {
   "cell_type": "code",
   "execution_count": null,
   "metadata": {},
   "outputs": [],
   "source": [
    "%%capture\n",
    "!pip install kornia"
   ]
  },
  {
   "cell_type": "code",
   "execution_count": null,
   "metadata": {},
   "outputs": [],
   "source": [
    "%%capture\n",
    "!wget https://github.com/kornia/data/raw/main/bennett_aden.png"
   ]
  },
  {
   "cell_type": "code",
   "execution_count": null,
   "metadata": {},
   "outputs": [],
   "source": [
    "import cv2\n",
    "import kornia as K\n",
    "import numpy as np\n",
    "import torch\n",
    "import torchvision\n",
    "from matplotlib import pyplot as plt"
   ]
  },
  {
   "cell_type": "markdown",
   "metadata": {},
   "source": [
    "We use OpenCV to load an image to memory represented in a numpy.ndarray"
   ]
  },
  {
   "cell_type": "code",
   "execution_count": null,
   "metadata": {},
   "outputs": [],
   "source": [
    "img_bgr: np.ndarray = cv2.imread(\"bennett_aden.png\", cv2.IMREAD_COLOR)"
   ]
  },
  {
   "cell_type": "markdown",
   "metadata": {},
   "source": [
    "Convert the numpy array to torch"
   ]
  },
  {
   "cell_type": "code",
   "execution_count": null,
   "metadata": {},
   "outputs": [],
   "source": [
    "x_img: torch.Tensor = K.utils.image_to_tensor(img_bgr)  # CxHxW\n",
    "x_img = x_img[None, ...].float() / 255.0\n",
    "x_img = K.color.bgr_to_rgb(x_img)"
   ]
  },
  {
   "cell_type": "code",
   "execution_count": null,
   "metadata": {},
   "outputs": [],
   "source": [
    "def imshow(input: torch.Tensor, size: tuple = None):\n",
    "    out = torchvision.utils.make_grid(input, nrow=4, padding=5)\n",
    "    out_np: np.ndarray = K.utils.tensor_to_image(out)\n",
    "    plt.figure(figsize=size)\n",
    "    plt.imshow(out_np)\n",
    "    plt.axis(\"off\")\n",
    "    plt.show()"
   ]
  },
  {
   "cell_type": "code",
   "execution_count": null,
   "metadata": {},
   "outputs": [],
   "source": [
    "imshow(x_img)"
   ]
  },
  {
   "cell_type": "markdown",
   "metadata": {},
   "source": [
    "## Define the rotation matrix"
   ]
  },
  {
   "cell_type": "code",
   "execution_count": null,
   "metadata": {},
   "outputs": [],
   "source": [
    "# create transformation (rotation)\n",
    "alpha: float = 45.0  # in degrees\n",
    "angle: torch.tensor = torch.ones(1) * alpha\n",
    "\n",
    "# define the rotation center\n",
    "center: torch.tensor = torch.ones(1, 2)\n",
    "center[..., 0] = x_img.shape[3] / 2  # x\n",
    "center[..., 1] = x_img.shape[2] / 2  # y\n",
    "\n",
    "# define the scale factor\n",
    "scale: torch.tensor = torch.ones(1, 2)\n",
    "\n",
    "# compute the transformation matrix\n",
    "M: torch.tensor = K.geometry.get_rotation_matrix2d(center, angle, scale)  # 1x2x3"
   ]
  },
  {
   "cell_type": "markdown",
   "metadata": {},
   "source": [
    "## Apply the transformation to the original image"
   ]
  },
  {
   "cell_type": "code",
   "execution_count": null,
   "metadata": {},
   "outputs": [],
   "source": [
    "_, _, h, w = x_img.shape\n",
    "x_warped: torch.tensor = K.geometry.warp_affine(x_img, M, dsize=(h, w))\n",
    "\n",
    "imshow(x_warped)"
   ]
  },
  {
   "cell_type": "markdown",
   "metadata": {},
   "source": [
    "## Rotate a batch of images"
   ]
  },
  {
   "cell_type": "code",
   "execution_count": null,
   "metadata": {},
   "outputs": [],
   "source": [
    "x_batch = x_img.repeat(16, 1, 1, 1)\n",
    "x_rot = K.geometry.rotate(x_batch, torch.linspace(0.0, 360.0, 16))\n",
    "\n",
    "imshow(x_rot, (16, 16))"
   ]
  }
 ],
 "metadata": {
  "kernelspec": {
   "display_name": "Python 3",
   "name": "python3"
  }
 },
 "nbformat": 4,
 "nbformat_minor": 0
}
