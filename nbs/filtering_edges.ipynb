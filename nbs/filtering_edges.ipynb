{
 "cells": [
  {
   "cell_type": "markdown",
   "metadata": {},
   "source": [
    "[![Open in Colab](https://colab.research.google.com/assets/colab-badge.svg)](https://colab.sandbox.google.com/github/kornia/tutorials/blob/master/source/filtering_edges.ipynb)\n",
    "[![Huggin Face Spaces](https://img.shields.io/badge/%F0%9F%A4%97%20Hugging%20Face-Spaces-blue.svg)](https://huggingface.co/spaces/kornia/kornia-edge-detection)\n",
    "\n",
    "# Edge Detection\n",
    "\n",
    "In this tutorial we are going to learn how to detect edges in images with `kornia.filters` components."
   ]
  },
  {
   "cell_type": "code",
   "execution_count": null,
   "metadata": {},
   "outputs": [],
   "source": [
    "%%capture\n",
    "!pip install kornia"
   ]
  },
  {
   "cell_type": "code",
   "execution_count": null,
   "metadata": {},
   "outputs": [],
   "source": [
    "%%capture\n",
    "!wget https://github.com/kornia/data/raw/main/doraemon.png"
   ]
  },
  {
   "cell_type": "code",
   "execution_count": null,
   "metadata": {},
   "outputs": [],
   "source": [
    "import cv2\n",
    "import kornia as K\n",
    "import numpy as np\n",
    "import torch\n",
    "import torchvision\n",
    "from matplotlib import pyplot as plt"
   ]
  },
  {
   "cell_type": "markdown",
   "metadata": {},
   "source": [
    "We use OpenCV to load an image to memory represented in a numpy.ndarray"
   ]
  },
  {
   "cell_type": "code",
   "execution_count": null,
   "metadata": {},
   "outputs": [],
   "source": [
    "img_bgr: np.ndarray = cv2.imread(\"doraemon.png\", cv2.IMREAD_COLOR)"
   ]
  },
  {
   "cell_type": "markdown",
   "metadata": {},
   "source": [
    "Convert the numpy array to torch"
   ]
  },
  {
   "cell_type": "code",
   "execution_count": null,
   "metadata": {},
   "outputs": [],
   "source": [
    "x_bgr: torch.Tensor = K.utils.image_to_tensor(img_bgr)  # CxHxWx\n",
    "x_bgr = x_bgr[None, ...].float() / 255.0\n",
    "\n",
    "x_rgb: torch.Tensor = K.color.bgr_to_rgb(x_bgr)\n",
    "x_gray = K.color.rgb_to_grayscale(x_rgb)"
   ]
  },
  {
   "cell_type": "code",
   "execution_count": null,
   "metadata": {},
   "outputs": [],
   "source": [
    "def imshow(input: torch.Tensor):\n",
    "    out = torchvision.utils.make_grid(input, nrow=2, padding=5)\n",
    "    out_np: np.ndarray = K.utils.tensor_to_image(out)\n",
    "    plt.imshow(out_np)\n",
    "    plt.axis(\"off\")\n",
    "    plt.show()"
   ]
  },
  {
   "cell_type": "code",
   "execution_count": null,
   "metadata": {},
   "outputs": [],
   "source": [
    "imshow(x_gray)"
   ]
  },
  {
   "cell_type": "markdown",
   "metadata": {},
   "source": [
    "## 1st order derivates"
   ]
  },
  {
   "cell_type": "code",
   "execution_count": null,
   "metadata": {},
   "outputs": [],
   "source": [
    "grads: torch.Tensor = K.filters.spatial_gradient(x_gray, order=1)  # BxCx2xHxW\n",
    "grads_x = grads[:, :, 0]\n",
    "grads_y = grads[:, :, 1]"
   ]
  },
  {
   "cell_type": "code",
   "execution_count": null,
   "metadata": {},
   "outputs": [],
   "source": [
    "# Show first derivatives in x\n",
    "imshow(1.0 - grads_x.clamp(0.0, 1.0))"
   ]
  },
  {
   "cell_type": "code",
   "execution_count": null,
   "metadata": {},
   "outputs": [],
   "source": [
    "# Show first derivatives in y\n",
    "imshow(1.0 - grads_y.clamp(0.0, 1.0))"
   ]
  },
  {
   "cell_type": "markdown",
   "metadata": {},
   "source": [
    "## 2nd order derivatives"
   ]
  },
  {
   "cell_type": "code",
   "execution_count": null,
   "metadata": {},
   "outputs": [],
   "source": [
    "grads: torch.Tensor = K.filters.spatial_gradient(x_gray, order=2)  # BxCx2xHxW\n",
    "grads_x = grads[:, :, 0]\n",
    "grads_y = grads[:, :, 1]"
   ]
  },
  {
   "cell_type": "code",
   "execution_count": null,
   "metadata": {},
   "outputs": [],
   "source": [
    "# Show second derivatives in x\n",
    "imshow(1.0 - grads_x.clamp(0.0, 1.0))"
   ]
  },
  {
   "cell_type": "code",
   "execution_count": null,
   "metadata": {},
   "outputs": [],
   "source": [
    "# Show second derivatives in y\n",
    "imshow(1.0 - grads_y.clamp(0.0, 1.0))"
   ]
  },
  {
   "cell_type": "markdown",
   "metadata": {},
   "source": [
    "## Sobel Edges\n",
    "Once with the gradients in the two directions we can computet the Sobel edges. However, in kornia we already have it implemented."
   ]
  },
  {
   "cell_type": "code",
   "execution_count": null,
   "metadata": {},
   "outputs": [],
   "source": [
    "x_sobel: torch.Tensor = K.filters.sobel(x_gray)\n",
    "imshow(1.0 - x_sobel)"
   ]
  },
  {
   "cell_type": "markdown",
   "metadata": {},
   "source": [
    "## Laplacian edges"
   ]
  },
  {
   "cell_type": "code",
   "execution_count": null,
   "metadata": {},
   "outputs": [],
   "source": [
    "x_laplacian: torch.Tensor = K.filters.laplacian(x_gray, kernel_size=5)\n",
    "imshow(1.0 - x_laplacian.clamp(0.0, 1.0))"
   ]
  },
  {
   "cell_type": "markdown",
   "metadata": {},
   "source": [
    "## Canny edges"
   ]
  },
  {
   "cell_type": "code",
   "execution_count": null,
   "metadata": {},
   "outputs": [],
   "source": [
    "x_laplacian: torch.Tensor = K.filters.canny(x_gray)[0]\n",
    "imshow(1.0 - x_laplacian.clamp(0.0, 1.0))"
   ]
  }
 ],
 "metadata": {
  "kernelspec": {
   "display_name": "Python 3",
   "language": "python",
   "name": "python3"
  }
 },
 "nbformat": 4,
 "nbformat_minor": 4
}
