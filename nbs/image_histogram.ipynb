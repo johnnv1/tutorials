{
 "cells": [
  {
   "cell_type": "markdown",
   "metadata": {},
   "source": [
    "[![Open in Colab](https://colab.research.google.com/assets/colab-badge.svg)](https://colab.sandbox.google.com/github/kornia/tutorials/blob/master/source/image_histogram.ipynb)\n",
    "\n",
    "# Image histogram and equalizations techniques\n",
    "In this tutorial we are going to learn how using kornia components and Matplotlib we can visualize image histograms and later use kornia functionality to equalize images in batch and using the gpu."
   ]
  },
  {
   "cell_type": "markdown",
   "metadata": {},
   "source": [
    "## Install Kornia"
   ]
  },
  {
   "cell_type": "code",
   "execution_count": null,
   "metadata": {},
   "outputs": [],
   "source": [
    "%%capture\n",
    "!pip install kornia kornia-rs"
   ]
  },
  {
   "cell_type": "markdown",
   "metadata": {},
   "source": [
    "## Prepare the data\n",
    "The low contrast color image used in this tutorial can be downloaded here (By Biem (Own work) [Public domain], via Wikimedia Commons)"
   ]
  },
  {
   "cell_type": "code",
   "execution_count": null,
   "metadata": {},
   "outputs": [],
   "source": [
    "%%capture\n",
    "!wget https://upload.wikimedia.org/wikipedia/commons/f/fd/Crayfish_low_contrast.JPG -O crayfish.jpg\n",
    "!wget https://upload.wikimedia.org/wikipedia/commons/1/16/Women%27s_Soccer_-_USA_vs_Japan_%281%29.jpg -O soccer.jpg\n",
    "!wget https://imagemagick.org/image/mountains.jpg -O mountains.jpg\n",
    "# !wget https://p0.piqsels.com/preview/817/405/123/santa-maria-del-mar-la-catedral-del-mar-church-barcelona.jpg -O church.jpg"
   ]
  },
  {
   "cell_type": "code",
   "execution_count": null,
   "metadata": {},
   "outputs": [],
   "source": [
    "from typing import List, Tuple\n",
    "\n",
    "import cv2\n",
    "import kornia as K\n",
    "import numpy as np\n",
    "import torch\n",
    "import torchvision\n",
    "from matplotlib import pyplot as plt"
   ]
  },
  {
   "cell_type": "markdown",
   "metadata": {},
   "source": [
    "Image show functionality"
   ]
  },
  {
   "cell_type": "code",
   "execution_count": null,
   "metadata": {},
   "outputs": [],
   "source": [
    "def imshow(input: torch.Tensor, height: int, width: int):\n",
    "    out: torch.Tensor = torchvision.utils.make_grid(input, nrow=2)\n",
    "    out_np: np.array = K.utils.tensor_to_image(out)\n",
    "    plt.figure(figsize=(height, width))\n",
    "    plt.imshow(out_np)\n",
    "    plt.axis(\"off\");"
   ]
  },
  {
   "cell_type": "markdown",
   "metadata": {},
   "source": [
    "Image read functionality"
   ]
  },
  {
   "cell_type": "code",
   "execution_count": null,
   "metadata": {},
   "outputs": [],
   "source": [
    "def imread(data_path: str) -> torch.Tensor:\n",
    "    \"\"\"Utility function that load an image an convert to torch.\"\"\"\n",
    "    img_t = K.io.load_image(data_path, K.io.ImageLoadType.RGB32)\n",
    "    img_t = K.geometry.resize(img_t, 1200, side=\"long\", align_corners=True)[..., :600, :]\n",
    "\n",
    "    return img_t[None, ...]"
   ]
  },
  {
   "cell_type": "markdown",
   "metadata": {},
   "source": [
    "Image and histogram plot functionality"
   ]
  },
  {
   "cell_type": "code",
   "execution_count": null,
   "metadata": {},
   "outputs": [],
   "source": [
    "def histogram_img(img_t: torch.Tensor, size: Tuple[int, int] = (16, 4)):\n",
    "    CH, H, W = img_t.shape\n",
    "    img = K.utils.tensor_to_image(img_t.mul(255.0).byte())\n",
    "\n",
    "    plt.figure(figsize=size)\n",
    "    ax1 = plt.subplot(1, 2, 1)\n",
    "    ax2 = plt.subplot(1, 2, 2)\n",
    "\n",
    "    colors = (\"b\", \"g\", \"r\")\n",
    "    kwargs = dict(histtype=\"stepfilled\", alpha=0.3, density=True, ec=\"k\")\n",
    "\n",
    "    for i in range(CH):\n",
    "        img_vec = img[..., i].flatten()\n",
    "        ax2.hist(img_vec, range=(0, 255), bins=256, color=colors[i], **kwargs)\n",
    "\n",
    "    ax1.imshow(img, cmap=(None if CH > 1 else \"gray\"))\n",
    "    ax1.grid(False)\n",
    "    ax1.axis(\"off\")\n",
    "\n",
    "    plt.show()"
   ]
  },
  {
   "cell_type": "markdown",
   "metadata": {},
   "source": [
    "Load the images in batch using OpenCV and show them as a grid."
   ]
  },
  {
   "cell_type": "code",
   "execution_count": null,
   "metadata": {},
   "outputs": [],
   "source": [
    "img_rgb_list: List[torch.Tensor] = []\n",
    "img_rgb_list.append(imread(\"crayfish.jpg\"))\n",
    "img_rgb_list.append(imread(\"soccer.jpg\"))\n",
    "# img_rgb_list.append(imread(\"church.jpg\"))\n",
    "img_rgb_list.append(imread(\"mountains.jpg\"))\n",
    "\n",
    "# Join the images into a unique torch.Tensor\n",
    "img_rgb = torch.cat(img_rgb_list, dim=0)\n",
    "\n",
    "print(f\"Image tensor shape: {img_rgb.shape}\")\n",
    "\n",
    "# Disable the line below to make everything happen in the GPU !\n",
    "# img_rbg = img_rbg.cuda()\n",
    "\n",
    "imshow(img_rgb, 10, 10)  # plot grid !"
   ]
  },
  {
   "cell_type": "markdown",
   "metadata": {},
   "source": [
    "## Image Histogram\n",
    "\n",
    "**Definition -** An image histogram is a type of histogram that acts as a graphical representation of the tonal distribution in a digital image.[1] It plots the number of pixels for each tonal value. By looking at the histogram for a specific image a viewer will be able to judge the entire tonal distribution at a glance [Read more - Wikipedia](https://en.wikipedia.org/wiki/Image_histogram).\n",
    "\n",
    "**In short -** An image histogram is:\n",
    "- It is a graphical representation of the intensity distribution of an image.\n",
    "- It quantifies the number of pixels for each intensity value considered.\n",
    "\n",
    "See also OpenCV tutorial: https://docs.opencv.org/master/d4/d1b/tutorial_histogram_equalization.html\n",
    "\n"
   ]
  },
  {
   "cell_type": "markdown",
   "metadata": {},
   "source": [
    "### Lightness with Kornia\n",
    "\n",
    "We first will compute the histogram of the lightness of the image. To do so, we compute first the color space *Lab* and take the first component known as luminance that reflects the lightness of the scene.\n",
    "\n",
    "Notice that kornia Lab representation is in the range of [0, 100] and for convenience to plot the histogram we will normalize the image between [0, 1]."
   ]
  },
  {
   "cell_type": "markdown",
   "metadata": {},
   "source": [
    "**Note:** kornia computes in batch, for convenience we show only one image result. That's it - modify below the `plot_indices` variable to explore the results of the batch."
   ]
  },
  {
   "cell_type": "code",
   "execution_count": null,
   "metadata": {},
   "outputs": [],
   "source": [
    "plot_indices: int = 0  # try: [0, 1, 2, 3]"
   ]
  },
  {
   "cell_type": "markdown",
   "metadata": {},
   "source": [
    "**Tip:** replace `K.color.rgb_to_lab` by `K.color.rgb_to_grayscale` to see the pixel distribution in the grayscale color space. Explore also `kornia.color` for more exotic color spaces."
   ]
  },
  {
   "cell_type": "code",
   "execution_count": null,
   "metadata": {},
   "outputs": [],
   "source": [
    "img_lab: torch.Tensor = K.color.rgb_to_lab(img_rgb)\n",
    "lightness: torch.Tensor = img_lab[..., :1, :, :] / 100.0  # L in lab is in range [0, 100]\n",
    "\n",
    "histogram_img(lightness[plot_indices])"
   ]
  },
  {
   "cell_type": "markdown",
   "metadata": {},
   "source": [
    "### RGB histogram with Kornia\n",
    "\n",
    "Similar to above - you can just visualize the three (red, green, blue) channels pixel distribution.\n",
    "\n",
    "**Tip** - Use as follows to visualize a single channel (green)\n",
    ": `histogram_img(img_rgb[plot_indices, 1:2])`"
   ]
  },
  {
   "cell_type": "code",
   "execution_count": null,
   "metadata": {},
   "outputs": [],
   "source": [
    "histogram_img(img_rgb[plot_indices])"
   ]
  },
  {
   "cell_type": "markdown",
   "metadata": {},
   "source": [
    "## Histogram stretching\n",
    "\n",
    "Sometimes our images have a pixel distribution that is not suitable for our application, being biased to a certain range depending on the illumination of the scene.\n",
    "\n",
    "In the next sections, we are going to show a couple of techniques to solve those issues. We will start with a basic technique to normalize the image by its minimum and maximum values with the objective to strecth the image histrogram."
   ]
  },
  {
   "cell_type": "markdown",
   "metadata": {},
   "source": [
    "### on the lightness with Kornia\n",
    "\n",
    "We use `kornina.enhance.normalize_min_max` to normalize the image Luminance. **Note:** compare the histrograms with the original image.\n",
    "\n",
    "**Tip -** play with the other functions from `kornia.enhance` to modify the intensity values of the image and thus its histograms."
   ]
  },
  {
   "cell_type": "code",
   "execution_count": null,
   "metadata": {},
   "outputs": [],
   "source": [
    "lightness_stretched = K.enhance.normalize_min_max(lightness)\n",
    "histogram_img(lightness_stretched[plot_indices])"
   ]
  },
  {
   "cell_type": "markdown",
   "metadata": {},
   "source": [
    "In order to properly visualize the effect of the normalization in the color histogram, we take the normalized Luminance and use it to cast back to RGB."
   ]
  },
  {
   "cell_type": "code",
   "execution_count": null,
   "metadata": {},
   "outputs": [],
   "source": [
    "img_rgb_new = K.color.lab_to_rgb(torch.cat([lightness_stretched * 100.0, img_lab[:, 1:]], dim=1))\n",
    "histogram_img(img_rgb_new[plot_indices])"
   ]
  },
  {
   "cell_type": "markdown",
   "metadata": {},
   "source": [
    "### on the RGB with Kornia\n",
    "\n",
    "In this case we normalize each channel independently where we can see that resulting image is not as clear as the one only stretching the Luminance."
   ]
  },
  {
   "cell_type": "code",
   "execution_count": null,
   "metadata": {},
   "outputs": [],
   "source": [
    "rgb_stretched = K.enhance.normalize_min_max(img_rgb)\n",
    "histogram_img(rgb_stretched[plot_indices])"
   ]
  },
  {
   "cell_type": "markdown",
   "metadata": {},
   "source": [
    "## Histogram Equalization\n",
    "\n",
    "A more advanced technique to improve the pixel distribution is the so called Histogram equalization - a method in image processing of contrast adjustment using the image's histogram [[Read more - Wikipedia]](https://en.wikipedia.org/wiki/Histogram_equalization).\n",
    "\n",
    "In kornia we have implemented in terms of torch tensor to equalize the images in batch and the gpu very easily."
   ]
  },
  {
   "cell_type": "markdown",
   "metadata": {},
   "source": [
    "### on the lightness with Kornia"
   ]
  },
  {
   "cell_type": "code",
   "execution_count": null,
   "metadata": {},
   "outputs": [],
   "source": [
    "lightness_equalized = K.enhance.equalize(lightness)\n",
    "histogram_img(lightness_equalized[plot_indices])"
   ]
  },
  {
   "cell_type": "markdown",
   "metadata": {},
   "source": [
    "We convert back from Lab to RGB using the equalized Luminance and visualize the histogram of the RGB."
   ]
  },
  {
   "cell_type": "code",
   "execution_count": null,
   "metadata": {},
   "outputs": [],
   "source": [
    "img_rgb_new = K.color.lab_to_rgb(torch.cat([lightness_equalized * 100.0, img_lab[:, 1:]], dim=1))\n",
    "histogram_img(img_rgb_new[plot_indices])"
   ]
  },
  {
   "cell_type": "markdown",
   "metadata": {},
   "source": [
    "### on the RGB with Kornia"
   ]
  },
  {
   "cell_type": "code",
   "execution_count": null,
   "metadata": {},
   "outputs": [],
   "source": [
    "rgb_equalized = K.enhance.equalize(img_rgb)\n",
    "histogram_img(rgb_equalized[plot_indices])"
   ]
  },
  {
   "cell_type": "markdown",
   "metadata": {},
   "source": [
    "### on the RGB with OpenCV\n",
    "\n",
    "Just to compare against OpenCV - close results :)"
   ]
  },
  {
   "cell_type": "code",
   "execution_count": null,
   "metadata": {},
   "outputs": [],
   "source": [
    "rgb_equalized_cv = []\n",
    "for img in img_rgb:\n",
    "    equ00 = torch.tensor(cv2.equalizeHist(K.utils.tensor_to_image(img[0].mul(255).clamp(0, 255).byte())))\n",
    "    equ01 = torch.tensor(cv2.equalizeHist(K.utils.tensor_to_image(img[1].mul(255).clamp(0, 255).byte())))\n",
    "    equ02 = torch.tensor(cv2.equalizeHist(K.utils.tensor_to_image(img[2].mul(255).clamp(0, 255).byte())))\n",
    "    rgb_equalized_cv.append(torch.stack([equ00, equ01, equ02]))\n",
    "rgb_equalized_cv = torch.stack(rgb_equalized_cv)\n",
    "\n",
    "histogram_img(rgb_equalized_cv[plot_indices] / 255.0)"
   ]
  },
  {
   "cell_type": "markdown",
   "metadata": {},
   "source": [
    "## Adaptive Histogram Equalization\n",
    "\n",
    "Adaptive histogram equalization (AHE) is a computer image processing technique used to improve contrast in images. It differs from ordinary histogram equalization in the respect that the adaptive method computes several histograms, each corresponding to a distinct section of the image, and uses them to redistribute the lightness values of the image. It is therefore suitable for improving the local contrast and enhancing the definitions of edges in each region of an image [[Read more - Wikipedia]](https://en.wikipedia.org/wiki/Adaptive_histogram_equalization).\n",
    "\n"
   ]
  },
  {
   "cell_type": "markdown",
   "metadata": {},
   "source": [
    "### on the lightness with Kornia\n",
    "\n",
    "We will use `kornia.enhance.equalize_clahe` and by playing with the `clip_limit` and `grid_size` variables to produce different effects to the image."
   ]
  },
  {
   "cell_type": "code",
   "execution_count": null,
   "metadata": {},
   "outputs": [],
   "source": [
    "lightness_equalized = K.enhance.equalize_clahe(lightness, clip_limit=0.0)\n",
    "histogram_img(lightness_equalized[plot_indices])"
   ]
  },
  {
   "cell_type": "markdown",
   "metadata": {},
   "source": [
    "We convert back from Lab to RGB using the equalized Luminance and visualize the histogram of the RGB."
   ]
  },
  {
   "cell_type": "code",
   "execution_count": null,
   "metadata": {},
   "outputs": [],
   "source": [
    "img_rgb_new = K.color.lab_to_rgb(torch.cat([lightness_equalized * 100.0, img_lab[:, 1:]], dim=1))\n",
    "histogram_img(img_rgb_new[plot_indices])"
   ]
  },
  {
   "cell_type": "markdown",
   "metadata": {},
   "source": [
    "### on the RGB with Kornia"
   ]
  },
  {
   "cell_type": "code",
   "execution_count": null,
   "metadata": {},
   "outputs": [],
   "source": [
    "rgb_equalized = K.enhance.equalize_clahe(img_rgb, clip_limit=0.0)\n",
    "histogram_img(rgb_equalized[plot_indices])"
   ]
  },
  {
   "cell_type": "markdown",
   "metadata": {},
   "source": [
    "## Contrast Limited Adaptive Histogram Equalization (CLAHE)\n",
    "\n",
    "An improvement of the algorithm is [CLAHE](https://ieeexplore.ieee.org/document/6968381) that divides the image into small blocks and controlled by the variable `grid_size`. This means, that the equalization is performed locally in each of the `NxM` sublocks to obtain a better distribution of the pixel values.\n"
   ]
  },
  {
   "cell_type": "markdown",
   "metadata": {},
   "source": [
    "### on the lightness with Kornia"
   ]
  },
  {
   "cell_type": "code",
   "execution_count": null,
   "metadata": {},
   "outputs": [],
   "source": [
    "lightness_equalized = K.enhance.equalize_clahe(lightness, clip_limit=20.0, grid_size=(8, 8))\n",
    "histogram_img(lightness_equalized[plot_indices])"
   ]
  },
  {
   "cell_type": "markdown",
   "metadata": {},
   "source": [
    "We convert back from Lab to RGB using the equalized Luminance and visualize the histogram of the RGB."
   ]
  },
  {
   "cell_type": "code",
   "execution_count": null,
   "metadata": {},
   "outputs": [],
   "source": [
    "img_rgb_new = K.color.lab_to_rgb(torch.cat([lightness_equalized * 100.0, img_lab[:, 1:]], dim=1))\n",
    "histogram_img(img_rgb_new[plot_indices])"
   ]
  },
  {
   "cell_type": "markdown",
   "metadata": {},
   "source": [
    "### on the RGB with Kornia"
   ]
  },
  {
   "cell_type": "markdown",
   "metadata": {},
   "source": [
    "We directly equalize all the RGB channels at once"
   ]
  },
  {
   "cell_type": "code",
   "execution_count": null,
   "metadata": {},
   "outputs": [],
   "source": [
    "rgb_equalized = K.enhance.equalize_clahe(img_rgb, clip_limit=20.0, grid_size=(8, 8))\n",
    "histogram_img(rgb_equalized[plot_indices])"
   ]
  },
  {
   "cell_type": "markdown",
   "metadata": {},
   "source": [
    "### on the RGB with OpenCV"
   ]
  },
  {
   "cell_type": "code",
   "execution_count": null,
   "metadata": {},
   "outputs": [],
   "source": [
    "imgs = []\n",
    "clahe = cv2.createCLAHE(clipLimit=20.0, tileGridSize=(8, 8))\n",
    "for im in img_rgb:\n",
    "    # equalize channels independently as gray scale images\n",
    "    equ00 = torch.tensor(clahe.apply(K.utils.tensor_to_image(im[0].mul(255).clamp(0, 255).byte())))\n",
    "    equ01 = torch.tensor(clahe.apply(K.utils.tensor_to_image(im[1].mul(255).clamp(0, 255).byte())))\n",
    "    equ02 = torch.tensor(clahe.apply(K.utils.tensor_to_image(im[2].mul(255).clamp(0, 255).byte())))\n",
    "    imgs.append(torch.stack([equ00, equ01, equ02]))\n",
    "imgs = torch.stack(imgs)\n",
    "\n",
    "histogram_img(imgs[plot_indices] / 255.0)"
   ]
  }
 ],
 "metadata": {
  "kernelspec": {
   "display_name": "Python 3",
   "language": "python",
   "name": "python3"
  }
 },
 "nbformat": 4,
 "nbformat_minor": 0
}
