{
 "cells": [
  {
   "cell_type": "markdown",
   "metadata": {},
   "source": [
    "[![Open in Colab](https://colab.research.google.com/assets/colab-badge.svg)](https://colab.sandbox.google.com/github/kornia/tutorials/blob/master/source/homography.ipynb)\n",
    "\n",
    "# Image Alignment by Homography Optimization\n",
    "\n",
    "In this tutorial we are going to learn how to perform the task of image alignment by optimising the homography transformation between two images."
   ]
  },
  {
   "cell_type": "code",
   "execution_count": null,
   "metadata": {},
   "outputs": [],
   "source": [
    "%%capture\n",
    "!pip install kornia"
   ]
  },
  {
   "cell_type": "code",
   "execution_count": null,
   "metadata": {},
   "outputs": [],
   "source": [
    "%%capture\n",
    "!wget https://github.com/kornia/data/raw/main/homography/H1to2p\n",
    "!wget https://github.com/kornia/data/raw/main/homography/img1.ppm\n",
    "!wget https://github.com/kornia/data/raw/main/homography/img2.ppm"
   ]
  },
  {
   "cell_type": "markdown",
   "metadata": {},
   "source": [
    "Import needed libraries"
   ]
  },
  {
   "cell_type": "code",
   "execution_count": null,
   "metadata": {},
   "outputs": [],
   "source": [
    "import os\n",
    "from typing import List\n",
    "\n",
    "import cv2\n",
    "import kornia as K\n",
    "import matplotlib.pyplot as plt\n",
    "import numpy as np\n",
    "import torch\n",
    "import torch.nn as nn\n",
    "import torch.nn.functional as F\n",
    "import torch.optim as optim\n",
    "from kornia.geometry import resize\n",
    "\n",
    "# computer vision libs :D"
   ]
  },
  {
   "cell_type": "markdown",
   "metadata": {},
   "source": [
    "Define the hyper parameters to perform the online optimisation"
   ]
  },
  {
   "cell_type": "code",
   "execution_count": null,
   "metadata": {},
   "outputs": [],
   "source": [
    "learning_rate: float = 1e-3  # the gradient optimisation update step\n",
    "num_iterations: int = 100  # the number of iterations until convergence\n",
    "num_levels: int = 6  # the total number of image pyramid levels\n",
    "error_tol: float = 1e-8  # the optimisation error tolerance\n",
    "\n",
    "log_interval: int = 100  # print log every N iterations\n",
    "use_cuda: bool = torch.cuda.is_available()\n",
    "device = torch.device(\"cuda\" if use_cuda else \"cpu\")\n",
    "print(\"Using \", device)"
   ]
  },
  {
   "cell_type": "code",
   "execution_count": null,
   "metadata": {},
   "outputs": [],
   "source": [
    "def load_image(file_name: str) -> torch.Tensor:\n",
    "    \"\"\"Loads the image with OpenCV and converts to torch.Tensor\"\"\"\n",
    "    assert os.path.isfile(file_name), f\"Invalid file {file_name}\"\n",
    "\n",
    "    # load image with OpenCV\n",
    "    img: np.ndarray = cv2.imread(file_name, cv2.IMREAD_COLOR)\n",
    "\n",
    "    # convert image to torch tensor\n",
    "    tensor: torch.Tensor = K.utils.image_to_tensor(img).float() / 255.0  # CxHxW\n",
    "    return tensor[None]  # 1xCxHxW"
   ]
  },
  {
   "cell_type": "markdown",
   "metadata": {},
   "source": [
    "Define a container to hold the homography as a `nn.Parameter` so that cen be used by the autograd within the `torch.optim` framework.\n",
    "\n",
    "We initialize the homography with the identity transformation."
   ]
  },
  {
   "cell_type": "code",
   "execution_count": null,
   "metadata": {},
   "outputs": [],
   "source": [
    "class MyHomography(nn.Module):\n",
    "    def __init__(self) -> None:\n",
    "        super().__init__()\n",
    "        self.homography = nn.Parameter(torch.Tensor(3, 3))\n",
    "        self.reset_parameters()\n",
    "\n",
    "    def reset_parameters(self):\n",
    "        torch.nn.init.eye_(self.homography)\n",
    "\n",
    "    def forward(self) -> torch.Tensor:\n",
    "        return torch.unsqueeze(self.homography, dim=0)  # 1x3x3"
   ]
  },
  {
   "cell_type": "markdown",
   "metadata": {},
   "source": [
    "Read the images and the ground truth homograpy to convert to tensor. In addition, we normalize the homography in order to smooth the gradiens during the optimisation process."
   ]
  },
  {
   "cell_type": "code",
   "execution_count": null,
   "metadata": {},
   "outputs": [],
   "source": [
    "img_src: torch.Tensor = load_image(\"img1.ppm\").to(device)\n",
    "img_dst: torch.Tensor = load_image(\"img2.ppm\").to(device)\n",
    "print(img_src.shape)\n",
    "print(img_dst.shape)\n",
    "\n",
    "dst_homo_src_gt = np.loadtxt(\"H1to2p\")\n",
    "dst_homo_src_gt = torch.from_numpy(dst_homo_src_gt)[None].float().to(device)\n",
    "print(dst_homo_src_gt.shape)\n",
    "print(dst_homo_src_gt)\n",
    "\n",
    "height, width = img_src.shape[-2:]\n",
    "\n",
    "# warp image in normalized coordinates\n",
    "normal_transform_pixel: torch.Tensor = K.geometry.normal_transform_pixel(height, width, device=device)\n",
    "\n",
    "dst_homo_src_gt_norm: torch.Tensor = normal_transform_pixel @ dst_homo_src_gt @ torch.inverse(normal_transform_pixel)\n",
    "\n",
    "img_src_to_dst_gt: torch.Tensor = K.geometry.homography_warp(img_src, torch.inverse(dst_homo_src_gt_norm), (height, width))\n",
    "\n",
    "img_src_vis: np.ndarray = K.utils.tensor_to_image(K.color.bgr_to_rgb(img_src))\n",
    "img_dst_vis: np.ndarray = K.utils.tensor_to_image(K.color.bgr_to_rgb(img_dst))\n",
    "img_src_to_dst_gt_vis: np.ndarray = K.utils.tensor_to_image(K.color.bgr_to_rgb(img_src_to_dst_gt))"
   ]
  },
  {
   "cell_type": "markdown",
   "metadata": {},
   "source": [
    "Show the source image, the target and the source image warped to the target using the ground truth homography transformation."
   ]
  },
  {
   "cell_type": "code",
   "execution_count": null,
   "metadata": {},
   "outputs": [],
   "source": [
    "fig, (ax1, ax2, ax3) = plt.subplots(1, 3, sharey=True)\n",
    "fig.set_figheight(15)\n",
    "fig.set_figwidth(15)\n",
    "\n",
    "ax1.imshow(img_src_vis)\n",
    "ax1.set_title(\"Source image\")\n",
    "\n",
    "ax2.imshow(img_dst_vis)\n",
    "ax2.set_title(\"Destination image\")\n",
    "\n",
    "ax3.imshow(img_src_to_dst_gt_vis)\n",
    "ax3.set_title(\"Source to Destination image\")\n",
    "plt.show()"
   ]
  },
  {
   "cell_type": "markdown",
   "metadata": {},
   "source": [
    "Initialize the homography warper and pass the parameters to the `torch.optim.Adam` optimizer to perform an online gradient descent optimisation to approximate the mapping transformation between the two images."
   ]
  },
  {
   "cell_type": "code",
   "execution_count": null,
   "metadata": {},
   "outputs": [],
   "source": [
    "# create homography parameters\n",
    "dst_homo_src = MyHomography().to(device)\n",
    "\n",
    "# create optimizer\n",
    "optimizer = optim.Adam(dst_homo_src.parameters(), lr=learning_rate)\n",
    "\n",
    "# send data to device\n",
    "img_src, img_dst = img_src.to(device), img_dst.to(device)"
   ]
  },
  {
   "cell_type": "markdown",
   "metadata": {},
   "source": [
    "In order to perform the online optimisation, we will apply a know fine-to-coarse strategy. For this reason, we precompute a gaussian pyramid from each image with a certain number of levels."
   ]
  },
  {
   "cell_type": "code",
   "execution_count": null,
   "metadata": {},
   "outputs": [],
   "source": [
    "### compute Gaussian Pyramid\n",
    "\n",
    "\n",
    "def get_gaussian_pyramid(img: torch.Tensor, num_levels: int) -> List[torch.Tensor]:\n",
    "    r\"\"\"Utility function to compute a gaussian pyramid.\"\"\"\n",
    "    pyramid = []\n",
    "    pyramid.append(img)\n",
    "    for _ in range(num_levels - 1):\n",
    "        img_curr = pyramid[-1]\n",
    "        img_down = K.geometry.pyrdown(img_curr)\n",
    "        pyramid.append(img_down)\n",
    "    return pyramid\n",
    "\n",
    "\n",
    "# compute the gaussian pyramids\n",
    "img_src_pyr: List[torch.Tensor] = get_gaussian_pyramid(img_src, num_levels)\n",
    "img_dst_pyr: List[torch.Tensor] = get_gaussian_pyramid(img_dst, num_levels)"
   ]
  },
  {
   "cell_type": "markdown",
   "metadata": {},
   "source": [
    "## Main optimization loop\n",
    "\n",
    "Define the loss function to minimize the photometric error at each pyramid level:\n",
    "\n",
    " $ L = \\sum |I_{ref} - \\omega(I_{dst}, H_{ref}^{dst}))|$"
   ]
  },
  {
   "cell_type": "code",
   "execution_count": null,
   "metadata": {},
   "outputs": [],
   "source": [
    "def compute_scale_loss(\n",
    "    img_src: torch.Tensor,\n",
    "    img_dst: torch.Tensor,\n",
    "    dst_homo_src: nn.Module,\n",
    "    optimizer: torch.optim,\n",
    "    num_iterations: int,\n",
    "    error_tol: float,\n",
    ") -> torch.Tensor:\n",
    "    assert len(img_src.shape) == len(img_dst.shape), (img_src.shape, img_dst.shape)\n",
    "\n",
    "    # init loop parameters\n",
    "    loss_tol = torch.tensor(error_tol)\n",
    "    loss_prev = torch.finfo(img_src.dtype).max\n",
    "\n",
    "    for i in range(num_iterations):\n",
    "        # create homography warper\n",
    "        src_homo_dst: torch.Tensor = torch.inverse(dst_homo_src)\n",
    "\n",
    "        _height, _width = img_src.shape[-2:]\n",
    "        warper = K.geometry.HomographyWarper(_height, _width)\n",
    "        img_src_to_dst = warper(img_src, src_homo_dst)\n",
    "\n",
    "        # compute and mask loss\n",
    "        loss = F.l1_loss(img_src_to_dst, img_dst, reduction=\"none\")  # 1x3xHxW\n",
    "\n",
    "        ones = warper(torch.ones_like(img_src), src_homo_dst)\n",
    "        loss = loss.masked_select(ones > 0.9).mean()\n",
    "\n",
    "        # compute gradient and update optimizer parameters\n",
    "        optimizer.zero_grad()\n",
    "        loss.backward()\n",
    "        optimizer.step()"
   ]
  },
  {
   "cell_type": "markdown",
   "metadata": {},
   "source": [
    "Run the main body loop to warp the images from each pyramid level and evaluate the loss to perform gradient update."
   ]
  },
  {
   "cell_type": "code",
   "execution_count": null,
   "metadata": {},
   "outputs": [],
   "source": [
    "# pyramid loop\n",
    "\n",
    "for iter_idx in range(num_levels):\n",
    "    # get current pyramid data\n",
    "    scale: int = (num_levels - 1) - iter_idx\n",
    "    img_src = img_src_pyr[scale]\n",
    "    img_dst = img_dst_pyr[scale]\n",
    "\n",
    "    # compute scale loss\n",
    "    compute_scale_loss(img_src, img_dst, dst_homo_src(), optimizer, num_iterations, error_tol)\n",
    "\n",
    "    print(f\"Optimization iteration: {iter_idx}/{num_levels}\")\n",
    "\n",
    "    # merge warped and target image for visualization\n",
    "    h, w = img_src.shape[-2:]\n",
    "    warper = K.geometry.HomographyWarper(h, w)\n",
    "    img_src_to_dst = warper(img_src, torch.inverse(dst_homo_src()))\n",
    "    img_src_to_dst_gt = warper(img_src, torch.inverse(dst_homo_src_gt_norm))\n",
    "\n",
    "    # compute the reprojection error\n",
    "    error = F.l1_loss(img_src_to_dst, img_src_to_dst_gt, reduction=\"none\")\n",
    "    print(f\"Reprojection error: {error.mean()}\")\n",
    "\n",
    "    # show data\n",
    "    img_src_vis = K.utils.tensor_to_image(K.color.bgr_to_rgb(img_src))\n",
    "    img_dst_vis = K.utils.tensor_to_image(K.color.bgr_to_rgb(img_dst))\n",
    "    img_src_to_dst_merge = 0.65 * img_src_to_dst + 0.35 * img_dst\n",
    "    img_src_to_dst_vis = K.utils.tensor_to_image(K.color.bgr_to_rgb(img_src_to_dst_merge))\n",
    "    img_src_to_dst_gt_vis = K.utils.tensor_to_image(K.color.bgr_to_rgb(img_src_to_dst_gt))\n",
    "\n",
    "    error_sum = error.mean(dim=1, keepdim=True)\n",
    "    error_vis = K.utils.tensor_to_image(error_sum)\n",
    "\n",
    "    # show the original images at each scale level, the result of warping using\n",
    "    # the homography at moment, and the estimated error against the GT homography.\n",
    "\n",
    "    %matplotlib inline\n",
    "    fig, (ax1, ax2, ax3, ax4, ax5) = plt.subplots(1, 5, sharey=False)\n",
    "    fig.set_figheight(15)\n",
    "    fig.set_figwidth(15)\n",
    "\n",
    "    ax1.imshow(img_src_vis)\n",
    "    ax1.set_title(\"Source image\")\n",
    "\n",
    "    ax2.imshow(img_dst_vis)\n",
    "    ax2.set_title(\"Destination image\")\n",
    "\n",
    "    ax3.imshow(img_src_to_dst_vis)\n",
    "    ax3.set_title(\"Source to Destination image\")\n",
    "\n",
    "    ax4.imshow(img_src_to_dst_gt_vis)\n",
    "    ax4.set_title(\"Source to Destination image GT\")\n",
    "\n",
    "    ax5.imshow(error_vis, cmap=\"gray\", vmin=0, vmax=1)\n",
    "    ax5.set_title(\"Error\")\n",
    "    plt.show()"
   ]
  }
 ],
 "metadata": {
  "kernelspec": {
   "display_name": "Python 3",
   "language": "python",
   "name": "python3"
  }
 },
 "nbformat": 4,
 "nbformat_minor": 1
}
