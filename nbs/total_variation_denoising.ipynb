{
 "cells": [
  {
   "cell_type": "markdown",
   "metadata": {},
   "source": [
    "[![Open in Colab](https://colab.research.google.com/assets/colab-badge.svg)](https://colab.sandbox.google.com/github/kornia/tutorials/blob/master/source/total_variation_denoising.ipynb)\n",
    "<a href=\"https://huggingface.co/spaces/kornia/total_variation_denoising\"><img src=\"https://img.shields.io/badge/%F0%9F%A4%97%20Hugging%20Face-Spaces-blue.svg\" alt=\"pypi version\"></a>\n",
    "\n",
    "# Denoise image using total variation\n",
    "\n",
    "\n",
    "In this tutorial we are going to learn how to denoise an image using the differentiable `total_variation` loss."
   ]
  },
  {
   "cell_type": "code",
   "execution_count": null,
   "metadata": {},
   "outputs": [],
   "source": [
    "%%capture\n",
    "!pip install kornia"
   ]
  },
  {
   "cell_type": "code",
   "execution_count": null,
   "metadata": {},
   "outputs": [],
   "source": [
    "%%capture\n",
    "!wget https://github.com/kornia/data/raw/main/doraemon.png"
   ]
  },
  {
   "cell_type": "code",
   "execution_count": null,
   "metadata": {},
   "outputs": [],
   "source": [
    "import cv2\n",
    "import kornia as K\n",
    "import matplotlib.pyplot as plt\n",
    "import numpy as np\n",
    "import torch\n",
    "import torchvision"
   ]
  },
  {
   "cell_type": "code",
   "execution_count": null,
   "metadata": {},
   "outputs": [],
   "source": [
    "def imshow(input: torch.Tensor):\n",
    "    out = torchvision.utils.make_grid(input, nrow=2, padding=5)\n",
    "    out_np: np.ndarray = K.utils.tensor_to_image(out)\n",
    "    plt.imshow(out_np)\n",
    "    plt.axis(\"off\")\n",
    "    plt.show()"
   ]
  },
  {
   "cell_type": "code",
   "execution_count": null,
   "metadata": {},
   "outputs": [],
   "source": [
    "# read the image with OpenCV\n",
    "img: np.ndarray = cv2.imread(\"doraemon.png\")\n",
    "img = cv2.cvtColor(img, cv2.COLOR_BGR2RGB) / 255.0\n",
    "img = img + np.random.normal(loc=0.0, scale=0.1, size=img.shape)\n",
    "img = np.clip(img, 0.0, 1.0)\n",
    "\n",
    "\n",
    "# convert to torch tensor\n",
    "noisy_image: torch.tensor = K.utils.image_to_tensor(img).squeeze()  # CxHxW\n",
    "imshow(noisy_image)"
   ]
  },
  {
   "cell_type": "markdown",
   "metadata": {},
   "source": [
    "We define the total variation denoising network and the optimizer"
   ]
  },
  {
   "cell_type": "code",
   "execution_count": null,
   "metadata": {},
   "outputs": [],
   "source": [
    "# define the total variation denoising network\n",
    "class TVDenoise(torch.nn.Module):\n",
    "    def __init__(self, noisy_image):\n",
    "        super().__init__()\n",
    "        self.l2_term = torch.nn.MSELoss(reduction=\"mean\")\n",
    "        self.regularization_term = K.losses.TotalVariation()\n",
    "        # create the variable which will be optimized to produce the noise free image\n",
    "        self.clean_image = torch.nn.Parameter(data=noisy_image.clone(), requires_grad=True)\n",
    "        self.noisy_image = noisy_image\n",
    "\n",
    "    def forward(self):\n",
    "        return self.l2_term(self.clean_image, self.noisy_image) + 0.0001 * self.regularization_term(self.clean_image)\n",
    "\n",
    "    def get_clean_image(self):\n",
    "        return self.clean_image\n",
    "\n",
    "\n",
    "tv_denoiser = TVDenoise(noisy_image)\n",
    "\n",
    "# define the optimizer to optimize the 1 parameter of tv_denoiser\n",
    "optimizer = torch.optim.SGD(tv_denoiser.parameters(), lr=0.1, momentum=0.9)"
   ]
  },
  {
   "cell_type": "markdown",
   "metadata": {},
   "source": [
    "Run the the optimization loop"
   ]
  },
  {
   "cell_type": "code",
   "execution_count": null,
   "metadata": {},
   "outputs": [],
   "source": [
    "num_iters: int = 500\n",
    "for i in range(num_iters):\n",
    "    optimizer.zero_grad()\n",
    "    loss = tv_denoiser().sum()\n",
    "    if i % 50 == 0:\n",
    "        print(f\"Loss in iteration {i} of {num_iters}: {loss.item():.3f}\")\n",
    "    loss.backward()\n",
    "    optimizer.step()"
   ]
  },
  {
   "cell_type": "markdown",
   "metadata": {},
   "source": [
    "Visualize the noisy and resulting cleaned image"
   ]
  },
  {
   "cell_type": "code",
   "execution_count": null,
   "metadata": {},
   "outputs": [],
   "source": [
    "# convert back to numpy\n",
    "img_clean: np.ndarray = K.utils.tensor_to_image(tv_denoiser.get_clean_image())\n",
    "\n",
    "# Create the plot\n",
    "fig, axs = plt.subplots(1, 2, figsize=(16, 10))\n",
    "axs = axs.ravel()\n",
    "\n",
    "axs[0].axis(\"off\")\n",
    "axs[0].set_title(\"Noisy image\")\n",
    "axs[0].imshow(img)\n",
    "\n",
    "axs[1].axis(\"off\")\n",
    "axs[1].set_title(\"Cleaned image\")\n",
    "axs[1].imshow(img_clean)\n",
    "\n",
    "plt.show()"
   ]
  }
 ],
 "metadata": {
  "kernelspec": {
   "display_name": "Python 3.9.7 ('cv')",
   "language": "python",
   "name": "python3"
  }
 },
 "nbformat": 4,
 "nbformat_minor": 0
}
