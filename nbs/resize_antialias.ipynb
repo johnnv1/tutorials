{
 "cells": [
  {
   "cell_type": "markdown",
   "metadata": {},
   "source": [
    "[![Open in Colab](https://colab.research.google.com/assets/colab-badge.svg)](https://colab.sandbox.google.com/github/kornia/tutorials/blob/master/source/resize_antialias.ipynb)\n",
    "\n",
    "# Resize anti-alias\n",
    "\n",
    "In this tutorial we are going to learn how to resize an image with anti-alias."
   ]
  },
  {
   "cell_type": "markdown",
   "metadata": {},
   "source": [
    "## Install Kornia"
   ]
  },
  {
   "cell_type": "code",
   "execution_count": null,
   "metadata": {},
   "outputs": [],
   "source": [
    "%%capture\n",
    "!pip install kornia"
   ]
  },
  {
   "cell_type": "markdown",
   "metadata": {},
   "source": [
    "## Prepare the data\n",
    "\n",
    "Download an example image"
   ]
  },
  {
   "cell_type": "code",
   "execution_count": null,
   "metadata": {},
   "outputs": [],
   "source": [
    "%%capture\n",
    "!wget https://github.com/kornia/data/raw/main/drslump.jpg"
   ]
  },
  {
   "cell_type": "markdown",
   "metadata": {},
   "source": [
    "Load the image using OpenCV and plot it"
   ]
  },
  {
   "cell_type": "code",
   "execution_count": null,
   "metadata": {},
   "outputs": [],
   "source": [
    "import cv2\n",
    "import kornia as K\n",
    "import numpy as np\n",
    "from matplotlib import pyplot as plt\n",
    "\n",
    "# load using opencv and convert to RGB\n",
    "img_bgr: np.array = cv2.imread(\"drslump.jpg\", cv2.IMREAD_COLOR)\n",
    "img_rgb: np.array = cv2.cvtColor(img_bgr, cv2.COLOR_BGR2RGB)\n",
    "plt.imshow(img_rgb)\n",
    "plt.axis(\"off\");"
   ]
  },
  {
   "cell_type": "code",
   "execution_count": null,
   "metadata": {},
   "outputs": [],
   "source": [
    "import torch\n",
    "import torchvision\n",
    "\n",
    "\n",
    "def imshow(input: torch.Tensor):\n",
    "    out: torch.Tensor = torchvision.utils.make_grid(input, nrow=2)\n",
    "    out_np: np.array = K.utils.tensor_to_image(out)\n",
    "    plt.figure(figsize=(20, 10))\n",
    "    plt.imshow(out_np)\n",
    "    plt.axis(\"off\")\n",
    "\n",
    "\n",
    "# stack four identical images\n",
    "data: torch.Tensor = K.utils.image_to_tensor(img_rgb).float() / 255.0  # 1xCxHxW\n",
    "# plot\n",
    "imshow(data)"
   ]
  },
  {
   "cell_type": "markdown",
   "metadata": {},
   "source": [
    "## Plain resize vs Antializased resize"
   ]
  },
  {
   "cell_type": "code",
   "execution_count": null,
   "metadata": {},
   "outputs": [],
   "source": [
    "x_025: torch.Tensor = K.geometry.rescale(data, (0.125, 0.125))\n",
    "x_025AA: torch.Tensor = K.geometry.rescale(data, (0.125, 0.125), antialias=True)\n",
    "out = torch.stack([x_025, x_025AA], dim=0)\n",
    "imshow(out)"
   ]
  }
 ],
 "metadata": {
  "kernelspec": {
   "display_name": "Python 3",
   "language": "python",
   "name": "python3"
  }
 },
 "nbformat": 4,
 "nbformat_minor": 0
}
