{
 "cells": [
  {
   "cell_type": "markdown",
   "metadata": {},
   "source": [
    "[![Open in Colab](https://colab.research.google.com/assets/colab-badge.svg)](https://colab.sandbox.google.com/github/kornia/tutorials/blob/master/source/canny.ipynb)\n",
    "\n",
    "Obtaining Edges using the Canny operator\n",
    "======================================\n",
    "\n",
    "In this tutorial we show how easily one can apply the typical [canny edge detection](https://kornia.readthedocs.io/en/latest/filters.html#kornia.filters.canny) using Kornia.\n",
    "\n",
    "Enjoy the example!"
   ]
  },
  {
   "cell_type": "markdown",
   "metadata": {},
   "source": [
    "Preparation\n",
    "---------------"
   ]
  },
  {
   "cell_type": "markdown",
   "metadata": {},
   "source": [
    "We first install Kornia."
   ]
  },
  {
   "cell_type": "code",
   "execution_count": null,
   "metadata": {},
   "outputs": [],
   "source": [
    "%%capture\n",
    "%matplotlib inline\n",
    "!pip install git+https://github.com/kornia/kornia"
   ]
  },
  {
   "cell_type": "code",
   "execution_count": null,
   "metadata": {},
   "outputs": [],
   "source": [
    "import kornia\n",
    "\n",
    "kornia.__version__"
   ]
  },
  {
   "cell_type": "markdown",
   "metadata": {},
   "source": [
    "Now we download the example image."
   ]
  },
  {
   "cell_type": "code",
   "execution_count": null,
   "metadata": {},
   "outputs": [],
   "source": [
    "%%capture\n",
    "!wget -O paranoia_agent.jpg https://ih1.redbubble.net/image.675644909.6235/flat,800x800,075,f.u3.jpg"
   ]
  },
  {
   "cell_type": "markdown",
   "metadata": {},
   "source": [
    "Example\n",
    "-----------\n",
    "\n",
    "We first import the required libraries and load the data."
   ]
  },
  {
   "cell_type": "code",
   "execution_count": null,
   "metadata": {},
   "outputs": [],
   "source": [
    "import cv2\n",
    "import kornia\n",
    "import matplotlib.pyplot as plt\n",
    "import numpy as np\n",
    "import torch\n",
    "\n",
    "# read the image with OpenCV\n",
    "img: np.ndarray = cv2.imread(\"./paranoia_agent.jpg\")\n",
    "img = cv2.cvtColor(img, cv2.COLOR_BGR2RGB)\n",
    "\n",
    "# convert to torch tensor\n",
    "data: torch.tensor = kornia.image_to_tensor(img, keepdim=False) / 255.0  # BxCxHxW\n",
    "\n",
    "plt.axis(\"off\")\n",
    "plt.imshow(img)\n",
    "plt.show()"
   ]
  },
  {
   "cell_type": "markdown",
   "metadata": {},
   "source": [
    "To apply a filter, we create the Canny operator object and apply it to the data. It will provide the magnitudes as well as the edges after the hysteresis process. Note that the edges are a binary image which is not differentiable!"
   ]
  },
  {
   "cell_type": "code",
   "execution_count": null,
   "metadata": {},
   "outputs": [],
   "source": [
    "# create the operator\n",
    "canny = kornia.filters.Canny()\n",
    "\n",
    "# blur the image\n",
    "x_magnitude, x_canny = canny(data.float())"
   ]
  },
  {
   "cell_type": "markdown",
   "metadata": {},
   "source": [
    "That's it! We can compare the source image and the results from the magnitude as well as the edges:"
   ]
  },
  {
   "cell_type": "code",
   "execution_count": null,
   "metadata": {},
   "outputs": [],
   "source": [
    "# convert back to numpy\n",
    "img_magnitude: np.ndarray = kornia.tensor_to_image(x_magnitude.byte())\n",
    "img_canny: np.ndarray = kornia.tensor_to_image(x_canny.byte())\n",
    "\n",
    "# Create the plot\n",
    "fig, axs = plt.subplots(1, 3, figsize=(16, 16))\n",
    "axs = axs.ravel()\n",
    "\n",
    "axs[0].axis(\"off\")\n",
    "axs[0].set_title(\"image source\")\n",
    "axs[0].imshow(img)\n",
    "\n",
    "axs[1].axis(\"off\")\n",
    "axs[1].set_title(\"canny magnitude\")\n",
    "axs[1].imshow(img_magnitude, cmap=\"Greys\")\n",
    "\n",
    "axs[2].axis(\"off\")\n",
    "axs[2].set_title(\"canny edges\")\n",
    "axs[2].imshow(img_canny, cmap=\"Greys\")\n",
    "\n",
    "plt.show()"
   ]
  },
  {
   "cell_type": "markdown",
   "metadata": {},
   "source": [
    "Note that our final result still recovers some edges whose magnitude is quite low. Let us increase the thresholds and compare the final edges."
   ]
  },
  {
   "cell_type": "code",
   "execution_count": null,
   "metadata": {},
   "outputs": [],
   "source": [
    "# create the operator\n",
    "canny = kornia.filters.Canny(low_threshold=0.4, high_threshold=0.5)\n",
    "\n",
    "# blur the image\n",
    "_, x_canny_threshold = canny(data.float())"
   ]
  },
  {
   "cell_type": "code",
   "execution_count": null,
   "metadata": {},
   "outputs": [],
   "source": [
    "import torch.nn.functional as F\n",
    "\n",
    "# convert back to numpy\n",
    "img_canny_threshold: np.ndarray = kornia.tensor_to_image(x_canny_threshold.byte())\n",
    "\n",
    "# Create the plot\n",
    "fig, axs = plt.subplots(1, 3, figsize=(16, 16))\n",
    "axs = axs.ravel()\n",
    "\n",
    "axs[0].axis(\"off\")\n",
    "axs[0].set_title(\"image source\")\n",
    "axs[0].imshow(img)\n",
    "\n",
    "axs[1].axis(\"off\")\n",
    "axs[1].set_title(\"canny default\")\n",
    "axs[1].imshow(img_canny, cmap=\"Greys\")\n",
    "\n",
    "axs[2].axis(\"off\")\n",
    "axs[2].set_title(\"canny defined thresholds\")\n",
    "axs[2].imshow(img_canny_threshold, cmap=\"Greys\")\n",
    "\n",
    "plt.show()"
   ]
  }
 ],
 "metadata": {
  "kernelspec": {
   "display_name": "Python 3 (ipykernel)",
   "language": "python",
   "name": "python3"
  }
 },
 "nbformat": 4,
 "nbformat_minor": 1
}
