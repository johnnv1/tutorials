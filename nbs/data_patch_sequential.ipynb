{
 "cells": [
  {
   "cell_type": "markdown",
   "metadata": {},
   "source": [
    "[![Open in Colab](https://colab.research.google.com/assets/colab-badge.svg)](https://colab.sandbox.google.com/github/kornia/tutorials/blob/master/source/data_patch_sequential.ipynb)\n",
    "\n",
    "# Patch Sequential\n",
    "\n",
    "In this tutorial we will show how we can quickly perform **patch processing** using the features provided by the `kornia.augmentation.PatchSequential` API."
   ]
  },
  {
   "cell_type": "markdown",
   "metadata": {},
   "source": [
    "## Install and get data\n",
    "\n",
    "We install Kornia and some dependencies, and download a simple data sample"
   ]
  },
  {
   "cell_type": "code",
   "execution_count": null,
   "metadata": {},
   "outputs": [],
   "source": [
    "%%capture\n",
    "!wget https://tinypng.com/images/social/website.jpg -O panda.jpg"
   ]
  },
  {
   "cell_type": "code",
   "execution_count": null,
   "metadata": {},
   "outputs": [],
   "source": [
    "import cv2\n",
    "import numpy as np\n",
    "import torch\n",
    "from kornia import augmentation as K\n",
    "from kornia.augmentation import ImageSequential, PatchSequential\n",
    "from kornia.geometry import bbox_to_mask\n",
    "from kornia.utils import image_to_tensor, tensor_to_image\n",
    "from matplotlib import pyplot as plt\n",
    "from torchvision.transforms import transforms\n",
    "\n",
    "to_tensor = transforms.ToTensor()\n",
    "to_pil = transforms.ToPILImage()\n",
    "\n",
    "img = cv2.imread(\"panda.jpg\", cv2.IMREAD_COLOR)\n",
    "img = cv2.cvtColor(img, cv2.COLOR_BGR2RGB)\n",
    "h, w = img.shape[:2]\n",
    "\n",
    "img_tensor = image_to_tensor(img).float() / 255.0\n",
    "plt.imshow(img)\n",
    "plt.axis(\"off\");"
   ]
  },
  {
   "cell_type": "markdown",
   "metadata": {},
   "source": [
    "## Patch Augmentation Sequential with patchwise_apply=True\n",
    "\n",
    "``patchwise_apply`` is a feature that used to define unique processing pipeline for each patch location. If ``patchwise_apply=True``, the number of pipelines defined must be as same as the number of patches in an image."
   ]
  },
  {
   "cell_type": "code",
   "execution_count": null,
   "metadata": {},
   "outputs": [],
   "source": [
    "pseq = PatchSequential(\n",
    "    ImageSequential(\n",
    "        K.ColorJitter(0.1, 0.1, 0.1, 0.1, p=0.5),\n",
    "        K.RandomPerspective(0.2, p=0.5),\n",
    "        K.RandomSolarize(0.1, 0.1, p=0.5),\n",
    "    ),\n",
    "    K.RandomAffine(15, [0.1, 0.1], [0.7, 1.2], [0.0, 20.0], p=0.5),\n",
    "    K.RandomPerspective(0.2, p=0.5),\n",
    "    ImageSequential(\n",
    "        K.ColorJitter(0.1, 0.1, 0.1, 0.1, p=0.5),\n",
    "        K.RandomPerspective(0.2, p=0.5),\n",
    "        K.RandomSolarize(0.1, 0.1, p=0.5),\n",
    "    ),\n",
    "    K.ColorJitter(0.1, 0.1, 0.1, 0.1, p=0.5),\n",
    "    K.RandomAffine(15, [0.1, 0.1], [0.7, 1.2], [0.0, 20.0], p=0.5),\n",
    "    K.RandomPerspective(0.2, p=0.5),\n",
    "    K.RandomSolarize(0.1, 0.1, p=0.5),\n",
    "    K.ColorJitter(0.1, 0.1, 0.1, 0.1, p=0.5),\n",
    "    K.RandomAffine(15, [0.1, 0.1], [0.7, 1.2], [0.0, 20.0], p=0.5),\n",
    "    ImageSequential(\n",
    "        K.ColorJitter(0.1, 0.1, 0.1, 0.1, p=0.5),\n",
    "        K.RandomPerspective(0.2, p=0.5),\n",
    "        K.RandomSolarize(0.1, 0.1, p=0.5),\n",
    "    ),\n",
    "    K.RandomSolarize(0.1, 0.1, p=0.5),\n",
    "    K.ColorJitter(0.1, 0.1, 0.1, 0.1, p=0.5),\n",
    "    K.RandomAffine(15, [0.1, 0.1], [0.7, 1.2], [0.0, 20.0], p=0.5),\n",
    "    K.RandomPerspective(0.2, p=0.5),\n",
    "    K.RandomSolarize(0.1, 0.1, p=0.5),\n",
    "    patchwise_apply=True,\n",
    "    same_on_batch=True,\n",
    ")\n",
    "out_tensor = pseq(img_tensor[None].repeat(2, 1, 1, 1))\n",
    "to_pil(torch.cat([out_tensor[0], out_tensor[1]], dim=2))"
   ]
  },
  {
   "cell_type": "markdown",
   "metadata": {},
   "source": [
    "## Patch Augmentation Sequential with patchwise_apply=False\n",
    "\n",
    "If ``patchwise_apply=False``, all the args will be combined and applied as one pipeline for each patch."
   ]
  },
  {
   "cell_type": "code",
   "execution_count": null,
   "metadata": {},
   "outputs": [],
   "source": [
    "pseq = PatchSequential(\n",
    "    K.ColorJitter(0.1, 0.1, 0.1, 0.1, p=0.75),\n",
    "    K.RandomAffine(15, [0.1, 0.1], [0.7, 1.2], [0.0, 20.0], p=0.5),\n",
    "    patchwise_apply=False,\n",
    "    same_on_batch=False,\n",
    ")\n",
    "out_tensor = pseq(img_tensor[None].repeat(2, 1, 1, 1))\n",
    "to_pil(torch.cat([out_tensor[0], out_tensor[1]], dim=2))"
   ]
  }
 ],
 "metadata": {
  "kernelspec": {
   "display_name": "Python 3",
   "language": "python",
   "name": "python3"
  }
 },
 "nbformat": 4,
 "nbformat_minor": 4
}
