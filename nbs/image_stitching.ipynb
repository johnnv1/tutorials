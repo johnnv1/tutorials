{
 "cells": [
  {
   "cell_type": "markdown",
   "metadata": {},
   "source": [
    "[![Open in Colab](https://colab.research.google.com/assets/colab-badge.svg)](https://colab.sandbox.google.com/github/kornia/tutorials/blob/master/source/image_stitching.ipynb)\n",
    "<a href=\"https://huggingface.co/spaces/kornia/Image-Stitching\"><img src=\"https://img.shields.io/badge/%F0%9F%A4%97%20Hugging%20Face-Spaces-blue.svg\" alt=\"pypi version\"></a>\n",
    "# Image stitching example with LoFTR\n",
    "\n",
    "First, we will install everything needed:\n",
    "\n",
    "\n",
    "\n",
    "*  fresh version of [kornia](https://github.com/kornia/kornia) for [LoFTR](https://zju3dv.github.io/loftr/)\n",
    "*  fresh version of [kornia](https://github.com/kornia/kornia) for [ImageStitcher](https://kornia.readthedocs.io/en/latest/contrib.html#kornia.contrib.ImageStitcher)\n"
   ]
  },
  {
   "cell_type": "code",
   "execution_count": null,
   "metadata": {},
   "outputs": [],
   "source": [
    "%%capture\n",
    "!pip install kornia scikit-image"
   ]
  },
  {
   "cell_type": "markdown",
   "metadata": {},
   "source": [
    "Now let's download an image pair\n"
   ]
  },
  {
   "cell_type": "code",
   "execution_count": null,
   "metadata": {},
   "outputs": [],
   "source": [
    "%%capture\n",
    "import kornia as K\n",
    "import kornia.feature as KF\n",
    "import matplotlib.pyplot as plt\n",
    "import numpy as np\n",
    "import torch\n",
    "from skimage import io\n",
    "\n",
    "\n",
    "def load_torch_image(fname):\n",
    "    return K.image_to_tensor(io.imread(fname), False).float() / 255.0\n",
    "\n",
    "\n",
    "def load_images_by_link(links):\n",
    "    return list([load_torch_image(fname) for fname in links])\n",
    "\n",
    "\n",
    "fnames = [\n",
    "    \"http://www.ic.unicamp.br/~helio/imagens_registro/foto1B.jpg\",\n",
    "    \"http://www.ic.unicamp.br/~helio/imagens_registro/foto1A.jpg\",\n",
    "]\n",
    "\n",
    "imgs = load_images_by_link(fnames)"
   ]
  },
  {
   "cell_type": "markdown",
   "metadata": {},
   "source": [
    "## Stitch them together"
   ]
  },
  {
   "cell_type": "code",
   "execution_count": null,
   "metadata": {},
   "outputs": [],
   "source": [
    "from kornia.contrib import ImageStitcher\n",
    "\n",
    "IS = ImageStitcher(KF.LoFTR(pretrained=\"outdoor\"), estimator=\"ransac\")\n",
    "\n",
    "with torch.no_grad():\n",
    "    out = IS(*imgs)\n",
    "\n",
    "plt.imshow(K.tensor_to_image(out))\n",
    "plt.show()"
   ]
  },
  {
   "cell_type": "markdown",
   "metadata": {},
   "source": [
    "## Another example"
   ]
  },
  {
   "cell_type": "code",
   "execution_count": null,
   "metadata": {},
   "outputs": [],
   "source": [
    "fnames = [\n",
    "    \"https://github.com/daeyun/Image-Stitching/blob/master/img/hill/1.JPG?raw=true\",\n",
    "    \"https://github.com/daeyun/Image-Stitching/blob/master/img/hill/2.JPG?raw=true\",\n",
    "    \"https://github.com/daeyun/Image-Stitching/blob/master/img/hill/3.JPG?raw=true\",\n",
    "]\n",
    "\n",
    "imgs = load_images_by_link(fnames)"
   ]
  },
  {
   "cell_type": "code",
   "execution_count": null,
   "metadata": {},
   "outputs": [],
   "source": [
    "f, axarr = plt.subplots(1, 3, figsize=(16, 6))\n",
    "\n",
    "axarr[0].imshow(K.tensor_to_image(imgs[0]))\n",
    "axarr[0].tick_params(left=False, right=False, labelleft=False, labelbottom=False, bottom=False)\n",
    "axarr[1].imshow(K.tensor_to_image(imgs[1]))\n",
    "axarr[1].tick_params(left=False, right=False, labelleft=False, labelbottom=False, bottom=False)\n",
    "axarr[2].imshow(K.tensor_to_image(imgs[2]))\n",
    "axarr[2].tick_params(left=False, right=False, labelleft=False, labelbottom=False, bottom=False)"
   ]
  },
  {
   "cell_type": "code",
   "execution_count": null,
   "metadata": {},
   "outputs": [],
   "source": [
    "matcher = KF.LocalFeatureMatcher(KF.GFTTAffNetHardNet(100), KF.DescriptorMatcher(\"snn\", 0.8))\n",
    "IS = ImageStitcher(matcher, estimator=\"ransac\")\n",
    "\n",
    "with torch.no_grad():\n",
    "    out = IS(*imgs)\n",
    "\n",
    "plt.figure(figsize=(16, 16))\n",
    "plt.imshow(K.tensor_to_image(out))"
   ]
  }
 ],
 "metadata": {
  "kernelspec": {
   "display_name": "Python 3.8.13 ('dethub')",
   "language": "python",
   "name": "python3"
  }
 },
 "nbformat": 4,
 "nbformat_minor": 2
}
