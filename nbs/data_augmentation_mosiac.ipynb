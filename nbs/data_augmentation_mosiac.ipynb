{
 "cells": [
  {
   "cell_type": "markdown",
   "metadata": {},
   "source": [
    "[![Open in Colab](https://colab.research.google.com/assets/colab-badge.svg)](https://colab.sandbox.google.com/github/kornia/tutorials/blob/master/source/data_augmentation_mosiac.ipynb)\n",
    "\n",
    "# Random Mosaic\n",
    "\n",
    "In this tutorial we will show how we can quickly perform **mosaicing** using the features provided by the [`kornia.augmentation.RandomMosaic`](https://kornia.readthedocs.io/en/latest/augmentation.module.html#kornia.augmentation.RandomMosaic) API.\n",
    "**Mosaicing** means taking several input images and combine their random crops into mosaic. "
   ]
  },
  {
   "cell_type": "markdown",
   "metadata": {},
   "source": [
    "## Install and get data\n",
    "\n",
    "We install Kornia and some dependencies, and download a simple data sample"
   ]
  },
  {
   "cell_type": "code",
   "execution_count": null,
   "metadata": {},
   "outputs": [],
   "source": [
    "%%capture\n",
    "!wget https://tinypng.com/images/social/website.jpg -O panda.jpg"
   ]
  },
  {
   "cell_type": "code",
   "execution_count": null,
   "metadata": {},
   "outputs": [],
   "source": [
    "import kornia as K\n",
    "import numpy as np\n",
    "import torch\n",
    "from matplotlib import pyplot as plt\n",
    "from torchvision.transforms import transforms\n",
    "\n",
    "to_tensor = transforms.ToTensor()\n",
    "to_pil = transforms.ToPILImage()\n",
    "\n",
    "\n",
    "def plot(img, box):\n",
    "    img_vis = img.clone()\n",
    "    img_vis = K.utils.draw_rectangle(img_vis, box, color=torch.tensor([255, 0, 0]))\n",
    "    plt.imshow(K.tensor_to_image(img_vis))\n",
    "\n",
    "\n",
    "def load_img(img_path):\n",
    "    try:\n",
    "        # not ready on Windows machine\n",
    "        img = K.io.load_image(img_path, K.io.ImageLoadType.RGB32)\n",
    "    except:\n",
    "        import cv2\n",
    "\n",
    "        img = cv2.imread(img_path, cv2.IMREAD_COLOR)\n",
    "        img = cv2.cvtColor(img, cv2.COLOR_BGR2RGB)\n",
    "        img = K.image_to_tensor(img).float() / 255.0\n",
    "    return img"
   ]
  },
  {
   "cell_type": "code",
   "execution_count": null,
   "metadata": {},
   "outputs": [],
   "source": [
    "img1 = load_img(\"panda.jpg\")\n",
    "img2 = K.augmentation.RandomEqualize(p=1.0, keepdim=True)(img1)\n",
    "img3 = K.augmentation.RandomInvert(p=1.0, keepdim=True)(img1)\n",
    "img4 = K.augmentation.RandomChannelShuffle(p=1.0, keepdim=True)(img1)\n",
    "\n",
    "to_pil(torch.cat([img1, img2, img3, img4], dim=-1))"
   ]
  },
  {
   "cell_type": "code",
   "execution_count": null,
   "metadata": {},
   "outputs": [],
   "source": [
    "import kornia as K\n",
    "import torch\n",
    "from kornia.augmentation import RandomMosaic\n",
    "\n",
    "x = K.core.concatenate(\n",
    "    [\n",
    "        K.geometry.resize(img1[None], (224, 224)),\n",
    "        K.geometry.resize(img2[None], (224, 224)),\n",
    "        K.geometry.resize(img3[None], (224, 224)),\n",
    "        K.geometry.resize(img4[None], (224, 224)),\n",
    "    ]\n",
    ")\n",
    "\n",
    "boxes = torch.tensor(\n",
    "    [\n",
    "        [\n",
    "            [70.0, 5, 150, 100],  # head\n",
    "            [60, 180, 175, 220],  # feet\n",
    "        ]\n",
    "    ]\n",
    ").repeat(4, 1, 1)\n",
    "\n",
    "aug = RandomMosaic(\n",
    "    (224, 224), mosaic_grid=(2, 2), start_ratio_range=(0.3, 0.5), p=1.0, min_bbox_size=300, data_keys=[\"input\", \"bbox_xyxy\"]\n",
    ")\n",
    "\n",
    "y, y1 = aug(x, boxes)\n",
    "\n",
    "plot(y[:1], y1[:1])"
   ]
  },
  {
   "cell_type": "code",
   "execution_count": null,
   "metadata": {},
   "outputs": [],
   "source": []
  }
 ],
 "metadata": {
  "kernelspec": {
   "display_name": "Python 3 (ipykernel)",
   "language": "python",
   "name": "python3"
  }
 },
 "nbformat": 4,
 "nbformat_minor": 4
}
